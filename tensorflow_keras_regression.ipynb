{
  "nbformat": 4,
  "nbformat_minor": 0,
  "metadata": {
    "colab": {
      "name": "tensorflow_keras_regression.ipynb",
      "provenance": [],
      "collapsed_sections": [],
      "authorship_tag": "ABX9TyNCbA0pg1YhVwkfbcmS912r",
      "include_colab_link": true
    },
    "kernelspec": {
      "name": "python3",
      "display_name": "Python 3"
    },
    "language_info": {
      "name": "python"
    }
  },
  "cells": [
    {
      "cell_type": "markdown",
      "metadata": {
        "id": "view-in-github",
        "colab_type": "text"
      },
      "source": [
        "<a href=\"https://colab.research.google.com/github/AnhMcConnell/Tensorflow-2-and-Keras-Deep-Learning-Bootcamp/blob/main/tensorflow_keras_regression.ipynb\" target=\"_parent\"><img src=\"https://colab.research.google.com/assets/colab-badge.svg\" alt=\"Open In Colab\"/></a>"
      ]
    },
    {
      "cell_type": "markdown",
      "metadata": {
        "id": "5JHUWuM3UmNs"
      },
      "source": [
        "Project Goals\n",
        "For this project, you will create a deep learning regression model that predicts the likelihood that a student applying to graduate school will be accepted based on various application factors (such as test scores).\n",
        "\n",
        "By analyzing the parameters in this graduate admissions dataset, you will use TensorFlow with Keras to create a regression model that can evaluate the chances of an applicant being admitted. You hope this will give you further insight into the graduate admissions world and improve your test prep strategy.\n",
        "\n",
        "\n",
        "Context\n",
        "This dataset is created for prediction of Graduate Admissions from an Indian perspective.\n",
        "\n",
        "Content\n",
        "The dataset contains several parameters which are considered important during the application for Masters Programs.\n",
        "The parameters included are :\n",
        "\n",
        "1. GRE Scores ( out of 340 )\n",
        "2. TOEFL Scores ( out of 120 )\n",
        "3. University Rating ( out of 5 )\n",
        "Statement of Purpose and Letter of Recommendation Strength ( out of 5 )\n",
        "4. Undergraduate GPA ( out of 10 )\n",
        "5. Research Experience ( either 0 or 1 )\n",
        "6. Chance of Admit ( ranging from 0 to 1 )\n",
        "Acknowledgements\n",
        "This dataset is inspired by the UCLA Graduate Dataset. The test scores and GPA are in the older format.\n",
        "The dataset is owned by Mohan S Acharya.\n",
        "\n",
        "Inspiration\n",
        "This dataset was built with the purpose of helping students in shortlisting universities with their profiles. The predicted output gives them a fair idea about their chances for a particular university.\n",
        "\n",
        "Citation\n",
        "Please cite the following if you are interested in using the dataset :\n",
        "Mohan S Acharya, Asfia Armaan, Aneeta S Antony : A Comparison of Regression Models for Prediction of Graduate Admissions, IEEE International Conference on Computational Intelligence in Data Science 2019"
      ]
    },
    {
      "cell_type": "code",
      "metadata": {
        "id": "uNvnkjbBS2pC"
      },
      "source": [
        "\n",
        "import pandas as pd\n",
        "import numpy as np\n",
        "import matplotlib.pyplot as plt\n",
        "\n",
        "import tensorflow as tf\n",
        "from tensorflow\timport keras\n",
        "from tensorflow.keras.models import Sequential\n",
        "from tensorflow.keras.callbacks import EarlyStopping\n",
        "from tensorflow.keras import layers\n",
        "\n",
        "from sklearn.model_selection import train_test_split\n",
        "from sklearn.preprocessing import StandardScaler, LabelEncoder\n",
        "from sklearn.preprocessing import Normalizer\n",
        "from sklearn.metrics import r2_score\n",
        "from sklearn.compose import ColumnTransformer\n",
        "from tensorflow.keras.layers import Dense, InputLayer, Dropout\n",
        "from sklearn.metrics import classification_report\n",
        "from tensorflow.keras.optimizers import Adam"
      ],
      "execution_count": 1,
      "outputs": []
    },
    {
      "cell_type": "code",
      "metadata": {
        "id": "lbVyTj4bS3tG"
      },
      "source": [
        "from google.colab import files"
      ],
      "execution_count": 2,
      "outputs": []
    },
    {
      "cell_type": "code",
      "metadata": {
        "colab": {
          "resources": {
            "http://localhost:8080/nbextensions/google.colab/files.js": {
              "data": "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",
              "ok": true,
              "headers": [
                [
                  "content-type",
                  "application/javascript"
                ]
              ],
              "status": 200,
              "status_text": ""
            }
          },
          "base_uri": "https://localhost:8080/",
          "height": 73
        },
        "id": "cJX5FQ72TFYx",
        "outputId": "1b958c8b-82ae-4009-be60-b619c027edd4"
      },
      "source": [
        "uploaded = files.upload()"
      ],
      "execution_count": 6,
      "outputs": [
        {
          "output_type": "display_data",
          "data": {
            "text/html": [
              "\n",
              "     <input type=\"file\" id=\"files-9c60a28d-7f94-4b25-8c2e-5121f94bccf0\" name=\"files[]\" multiple disabled\n",
              "        style=\"border:none\" />\n",
              "     <output id=\"result-9c60a28d-7f94-4b25-8c2e-5121f94bccf0\">\n",
              "      Upload widget is only available when the cell has been executed in the\n",
              "      current browser session. Please rerun this cell to enable.\n",
              "      </output>\n",
              "      <script src=\"/nbextensions/google.colab/files.js\"></script> "
            ],
            "text/plain": [
              "<IPython.core.display.HTML object>"
            ]
          },
          "metadata": {
            "tags": []
          }
        },
        {
          "output_type": "stream",
          "text": [
            "Saving regression-challenge.zip to regression-challenge.zip\n"
          ],
          "name": "stdout"
        }
      ]
    },
    {
      "cell_type": "code",
      "metadata": {
        "colab": {
          "base_uri": "https://localhost:8080/"
        },
        "id": "Jh79FT4ETI1H",
        "outputId": "799104a9-5fbd-46ca-f57b-670753a97743"
      },
      "source": [
        "!unzip regression-challenge.zip"
      ],
      "execution_count": 7,
      "outputs": [
        {
          "output_type": "stream",
          "text": [
            "Archive:  regression-challenge.zip\n",
            "   creating: regression-challenge/\n",
            "  inflating: regression-challenge/.DS_Store  \n",
            "  inflating: __MACOSX/regression-challenge/._.DS_Store  \n",
            "   creating: regression-challenge/regression-challenge-starter/\n",
            "   creating: regression-challenge/regression-challenge-solution/\n",
            "  inflating: regression-challenge/regression-challenge-starter/script.py  \n",
            "  inflating: __MACOSX/regression-challenge/regression-challenge-starter/._script.py  \n",
            "  inflating: regression-challenge/regression-challenge-starter/admissions_data.csv  \n",
            "  inflating: __MACOSX/regression-challenge/regression-challenge-starter/._admissions_data.csv  \n",
            "  inflating: regression-challenge/regression-challenge-solution/script.py  \n",
            "  inflating: __MACOSX/regression-challenge/regression-challenge-solution/._script.py  \n",
            "  inflating: regression-challenge/regression-challenge-solution/admissions_data.csv  \n",
            "  inflating: __MACOSX/regression-challenge/regression-challenge-solution/._admissions_data.csv  \n"
          ],
          "name": "stdout"
        }
      ]
    },
    {
      "cell_type": "code",
      "metadata": {
        "id": "InV2Ge5wTSTB"
      },
      "source": [
        "import os"
      ],
      "execution_count": 8,
      "outputs": []
    },
    {
      "cell_type": "code",
      "metadata": {
        "id": "VDq_DiXeTUJG"
      },
      "source": [
        "data_dir = '/content/regression-challenge/regression-challenge-starter/admissions_data.csv'"
      ],
      "execution_count": 9,
      "outputs": []
    },
    {
      "cell_type": "code",
      "metadata": {
        "id": "1ew63OpXThfs"
      },
      "source": [
        "data = pd.read_csv(data_dir)"
      ],
      "execution_count": 10,
      "outputs": []
    },
    {
      "cell_type": "code",
      "metadata": {
        "colab": {
          "base_uri": "https://localhost:8080/",
          "height": 106
        },
        "id": "zq4Eh9IuTlhQ",
        "outputId": "8a99264c-9e7a-4275-8f2a-d6dc62dbff1c"
      },
      "source": [
        "data.head(2)"
      ],
      "execution_count": 6,
      "outputs": [
        {
          "output_type": "execute_result",
          "data": {
            "text/html": [
              "<div>\n",
              "<style scoped>\n",
              "    .dataframe tbody tr th:only-of-type {\n",
              "        vertical-align: middle;\n",
              "    }\n",
              "\n",
              "    .dataframe tbody tr th {\n",
              "        vertical-align: top;\n",
              "    }\n",
              "\n",
              "    .dataframe thead th {\n",
              "        text-align: right;\n",
              "    }\n",
              "</style>\n",
              "<table border=\"1\" class=\"dataframe\">\n",
              "  <thead>\n",
              "    <tr style=\"text-align: right;\">\n",
              "      <th></th>\n",
              "      <th>Serial No.</th>\n",
              "      <th>GRE Score</th>\n",
              "      <th>TOEFL Score</th>\n",
              "      <th>University Rating</th>\n",
              "      <th>SOP</th>\n",
              "      <th>LOR</th>\n",
              "      <th>CGPA</th>\n",
              "      <th>Research</th>\n",
              "      <th>Chance of Admit</th>\n",
              "    </tr>\n",
              "  </thead>\n",
              "  <tbody>\n",
              "    <tr>\n",
              "      <th>0</th>\n",
              "      <td>1</td>\n",
              "      <td>337</td>\n",
              "      <td>118</td>\n",
              "      <td>4</td>\n",
              "      <td>4.5</td>\n",
              "      <td>4.5</td>\n",
              "      <td>9.65</td>\n",
              "      <td>1</td>\n",
              "      <td>0.92</td>\n",
              "    </tr>\n",
              "    <tr>\n",
              "      <th>1</th>\n",
              "      <td>2</td>\n",
              "      <td>324</td>\n",
              "      <td>107</td>\n",
              "      <td>4</td>\n",
              "      <td>4.0</td>\n",
              "      <td>4.5</td>\n",
              "      <td>8.87</td>\n",
              "      <td>1</td>\n",
              "      <td>0.76</td>\n",
              "    </tr>\n",
              "  </tbody>\n",
              "</table>\n",
              "</div>"
            ],
            "text/plain": [
              "   Serial No.  GRE Score  TOEFL Score  ...  CGPA  Research  Chance of Admit \n",
              "0           1        337          118  ...  9.65         1              0.92\n",
              "1           2        324          107  ...  8.87         1              0.76\n",
              "\n",
              "[2 rows x 9 columns]"
            ]
          },
          "metadata": {
            "tags": []
          },
          "execution_count": 6
        }
      ]
    },
    {
      "cell_type": "code",
      "metadata": {
        "colab": {
          "base_uri": "https://localhost:8080/"
        },
        "id": "nas-nj-TTm75",
        "outputId": "8e474e5d-025f-4cdb-8bb8-930e124bea66"
      },
      "source": [
        "# checking our dataset\n",
        "data.info()"
      ],
      "execution_count": 11,
      "outputs": [
        {
          "output_type": "stream",
          "text": [
            "<class 'pandas.core.frame.DataFrame'>\n",
            "RangeIndex: 500 entries, 0 to 499\n",
            "Data columns (total 9 columns):\n",
            " #   Column             Non-Null Count  Dtype  \n",
            "---  ------             --------------  -----  \n",
            " 0   Serial No.         500 non-null    int64  \n",
            " 1   GRE Score          500 non-null    int64  \n",
            " 2   TOEFL Score        500 non-null    int64  \n",
            " 3   University Rating  500 non-null    int64  \n",
            " 4   SOP                500 non-null    float64\n",
            " 5   LOR                500 non-null    float64\n",
            " 6   CGPA               500 non-null    float64\n",
            " 7   Research           500 non-null    int64  \n",
            " 8   Chance of Admit    500 non-null    float64\n",
            "dtypes: float64(4), int64(5)\n",
            "memory usage: 35.3 KB\n"
          ],
          "name": "stdout"
        }
      ]
    },
    {
      "cell_type": "code",
      "metadata": {
        "colab": {
          "base_uri": "https://localhost:8080/"
        },
        "id": "_K3VYm8XTsUV",
        "outputId": "2f541d13-5a58-4909-8477-6644c8899878"
      },
      "source": [
        "# Nice! Dataset with all numerical features. Now, lets check again to make sure if we have any Nan values\n",
        "data.isnull().sum()\n"
      ],
      "execution_count": 12,
      "outputs": [
        {
          "output_type": "execute_result",
          "data": {
            "text/plain": [
              "Serial No.           0\n",
              "GRE Score            0\n",
              "TOEFL Score          0\n",
              "University Rating    0\n",
              "SOP                  0\n",
              "LOR                  0\n",
              "CGPA                 0\n",
              "Research             0\n",
              "Chance of Admit      0\n",
              "dtype: int64"
            ]
          },
          "metadata": {
            "tags": []
          },
          "execution_count": 12
        }
      ]
    },
    {
      "cell_type": "code",
      "metadata": {
        "id": "yZrtoBjifo0X"
      },
      "source": [
        "import seaborn as sns"
      ],
      "execution_count": 13,
      "outputs": []
    },
    {
      "cell_type": "code",
      "metadata": {
        "colab": {
          "base_uri": "https://localhost:8080/",
          "height": 569
        },
        "id": "aak8ZYwEfVb8",
        "outputId": "20f7261b-8f19-4083-e0fa-0e97798f248e"
      },
      "source": [
        "# Lets have a look on our prediction feature Chance of Admit \n",
        "sns.set(style=\"ticks\")\n",
        "\n",
        "x = data['Chance of Admit ']\n",
        "f, (ax_box, ax_hist) = plt.subplots(2, sharex=True, gridspec_kw={\"height_ratios\": (.15, .85)}, figsize=(12,7))\n",
        "\n",
        "sns.boxplot(x, ax=ax_box)\n",
        "sns.distplot(x, ax=ax_hist)\n",
        "plt.axvline(x = x.mean(), c = 'red')\n",
        "plt.axvline(x = x.median(), c = 'green')\n",
        "\n",
        "ax_box.set(yticks=[])\n",
        "sns.despine(ax=ax_hist)\n",
        "sns.despine(ax=ax_box, left=True)\n",
        "plt.show()\n",
        "print(\"Skewness: %f\" % data['Chance of Admit '].skew())\n",
        "print(\"Kurtosis: %f\" % data['Chance of Admit '].kurt())"
      ],
      "execution_count": 14,
      "outputs": [
        {
          "output_type": "stream",
          "text": [
            "/usr/local/lib/python3.7/dist-packages/seaborn/_decorators.py:43: FutureWarning: Pass the following variable as a keyword arg: x. From version 0.12, the only valid positional argument will be `data`, and passing other arguments without an explicit keyword will result in an error or misinterpretation.\n",
            "  FutureWarning\n",
            "/usr/local/lib/python3.7/dist-packages/seaborn/distributions.py:2557: FutureWarning: `distplot` is a deprecated function and will be removed in a future version. Please adapt your code to use either `displot` (a figure-level function with similar flexibility) or `histplot` (an axes-level function for histograms).\n",
            "  warnings.warn(msg, FutureWarning)\n"
          ],
          "name": "stderr"
        },
        {
          "output_type": "display_data",
          "data": {
            "image/png": "[encoded data removed]",
            "text/plain": [
              "<Figure size 864x504 with 2 Axes>"
            ]
          },
          "metadata": {
            "tags": []
          }
        },
        {
          "output_type": "stream",
          "text": [
            "Skewness: -0.289966\n",
            "Kurtosis: -0.454682\n"
          ],
          "name": "stdout"
        }
      ]
    },
    {
      "cell_type": "code",
      "metadata": {
        "colab": {
          "base_uri": "https://localhost:8080/",
          "height": 569
        },
        "id": "cHMYEq1bfVhG",
        "outputId": "71306ac8-b2a6-41fa-bd9f-769d02d5773d"
      },
      "source": [
        "sns.set(style=\"ticks\")\n",
        "\n",
        "x = (np.log1p(data['Chance of Admit ']))\n",
        "f, (ax_box, ax_hist) = plt.subplots(2, sharex=True, gridspec_kw={\"height_ratios\": (.15, .85)}, figsize=(12,7))\n",
        "\n",
        "sns.boxplot(x, ax=ax_box)\n",
        "sns.distplot(x, ax=ax_hist)\n",
        "plt.axvline(x = x.mean(), c = 'red')\n",
        "plt.axvline(x = x.median(), c = 'green')\n",
        "\n",
        "ax_box.set(yticks=[])\n",
        "sns.despine(ax=ax_hist)\n",
        "sns.despine(ax=ax_box, left=True)\n",
        "plt.show()\n",
        "print(\"Skewness: %f\" % data['Chance of Admit '].skew())\n",
        "print(\"Kurtosis: %f\" % data['Chance of Admit '].kurt())"
      ],
      "execution_count": 15,
      "outputs": [
        {
          "output_type": "stream",
          "text": [
            "/usr/local/lib/python3.7/dist-packages/seaborn/_decorators.py:43: FutureWarning: Pass the following variable as a keyword arg: x. From version 0.12, the only valid positional argument will be `data`, and passing other arguments without an explicit keyword will result in an error or misinterpretation.\n",
            "  FutureWarning\n",
            "/usr/local/lib/python3.7/dist-packages/seaborn/distributions.py:2557: FutureWarning: `distplot` is a deprecated function and will be removed in a future version. Please adapt your code to use either `displot` (a figure-level function with similar flexibility) or `histplot` (an axes-level function for histograms).\n",
            "  warnings.warn(msg, FutureWarning)\n"
          ],
          "name": "stderr"
        },
        {
          "output_type": "display_data",
          "data": {
            "image/png": "[encoded data removed]",
            "text/plain": [
              "<Figure size 864x504 with 2 Axes>"
            ]
          },
          "metadata": {
            "tags": []
          }
        },
        {
          "output_type": "stream",
          "text": [
            "Skewness: -0.289966\n",
            "Kurtosis: -0.454682\n"
          ],
          "name": "stdout"
        }
      ]
    },
    {
      "cell_type": "markdown",
      "metadata": {
        "id": "XnscOAFQgnZa"
      },
      "source": [
        "ok, the red line in our chart indicates the mean of the chance of Admit, green line indicates the median.\n",
        "- By looking at this distribution chart, It's not presented as a nice distribution. This is a left skewed distribution or negative skew. That's because the tail is longer on the negative direction of the number line. The peak of histogram veers to the right."
      ]
    },
    {
      "cell_type": "code",
      "metadata": {
        "colab": {
          "base_uri": "https://localhost:8080/",
          "height": 519
        },
        "id": "Uyy1p0KAfVj9",
        "outputId": "ca7dab20-a3b7-4aac-c755-e2baf6cf4ba9"
      },
      "source": [
        "# \n",
        "plt.figure(figsize=(12,8))\n",
        "sns.scatterplot(x='Chance of Admit ',y='TOEFL Score',data=data)"
      ],
      "execution_count": 16,
      "outputs": [
        {
          "output_type": "execute_result",
          "data": {
            "text/plain": [
              "<matplotlib.axes._subplots.AxesSubplot at 0x7fec8608c5d0>"
            ]
          },
          "metadata": {
            "tags": []
          },
          "execution_count": 16
        },
        {
          "output_type": "display_data",
          "data": {
            "image/png": "[encoded data removed]",
            "text/plain": [
              "<Figure size 864x576 with 1 Axes>"
            ]
          },
          "metadata": {
            "tags": []
          }
        }
      ]
    },
    {
      "cell_type": "code",
      "metadata": {
        "colab": {
          "base_uri": "https://localhost:8080/",
          "height": 355
        },
        "id": "KnwQZMdTfVn4",
        "outputId": "c893d9ed-06b7-4582-9b32-ed8b6eeb4bac"
      },
      "source": [
        "\n",
        "# Lets see University rating count\n",
        "sns.countplot(data['University Rating'])"
      ],
      "execution_count": 17,
      "outputs": [
        {
          "output_type": "stream",
          "text": [
            "/usr/local/lib/python3.7/dist-packages/seaborn/_decorators.py:43: FutureWarning: Pass the following variable as a keyword arg: x. From version 0.12, the only valid positional argument will be `data`, and passing other arguments without an explicit keyword will result in an error or misinterpretation.\n",
            "  FutureWarning\n"
          ],
          "name": "stderr"
        },
        {
          "output_type": "execute_result",
          "data": {
            "text/plain": [
              "<matplotlib.axes._subplots.AxesSubplot at 0x7fec7cf780d0>"
            ]
          },
          "metadata": {
            "tags": []
          },
          "execution_count": 17
        },
        {
          "output_type": "display_data",
          "data": {
            "image/png": "[encoded data removed]",
            "text/plain": [
              "<Figure size 432x288 with 1 Axes>"
            ]
          },
          "metadata": {
            "tags": []
          }
        }
      ]
    },
    {
      "cell_type": "code",
      "metadata": {
        "colab": {
          "base_uri": "https://localhost:8080/",
          "height": 355
        },
        "id": "X7DfW3oCfVqY",
        "outputId": "a06834ab-8147-44ac-be1a-2943bf36b9f4"
      },
      "source": [
        "# Now, lets check feature SOP\n",
        "sns.countplot(data['SOP'])"
      ],
      "execution_count": 18,
      "outputs": [
        {
          "output_type": "stream",
          "text": [
            "/usr/local/lib/python3.7/dist-packages/seaborn/_decorators.py:43: FutureWarning: Pass the following variable as a keyword arg: x. From version 0.12, the only valid positional argument will be `data`, and passing other arguments without an explicit keyword will result in an error or misinterpretation.\n",
            "  FutureWarning\n"
          ],
          "name": "stderr"
        },
        {
          "output_type": "execute_result",
          "data": {
            "text/plain": [
              "<matplotlib.axes._subplots.AxesSubplot at 0x7fec7cf19850>"
            ]
          },
          "metadata": {
            "tags": []
          },
          "execution_count": 18
        },
        {
          "output_type": "display_data",
          "data": {
            "image/png": "[encoded data removed]",
            "text/plain": [
              "<Figure size 432x288 with 1 Axes>"
            ]
          },
          "metadata": {
            "tags": []
          }
        }
      ]
    },
    {
      "cell_type": "code",
      "metadata": {
        "colab": {
          "base_uri": "https://localhost:8080/",
          "height": 355
        },
        "id": "JgIbW-kifVtE",
        "outputId": "4d4b701e-b975-4d58-df50-84cb88b6e798"
      },
      "source": [
        "# Check out research experience\n",
        "sns.countplot(data['Research'])"
      ],
      "execution_count": 19,
      "outputs": [
        {
          "output_type": "stream",
          "text": [
            "/usr/local/lib/python3.7/dist-packages/seaborn/_decorators.py:43: FutureWarning: Pass the following variable as a keyword arg: x. From version 0.12, the only valid positional argument will be `data`, and passing other arguments without an explicit keyword will result in an error or misinterpretation.\n",
            "  FutureWarning\n"
          ],
          "name": "stderr"
        },
        {
          "output_type": "execute_result",
          "data": {
            "text/plain": [
              "<matplotlib.axes._subplots.AxesSubplot at 0x7fec7ce24990>"
            ]
          },
          "metadata": {
            "tags": []
          },
          "execution_count": 19
        },
        {
          "output_type": "display_data",
          "data": {
            "image/png": "[encoded data removed]",
            "text/plain": [
              "<Figure size 432x288 with 1 Axes>"
            ]
          },
          "metadata": {
            "tags": []
          }
        }
      ]
    },
    {
      "cell_type": "code",
      "metadata": {
        "colab": {
          "base_uri": "https://localhost:8080/"
        },
        "id": "9Gp7wDewfVwM",
        "outputId": "aab80a7d-26a8-4492-cab6-ed6fbbe586eb"
      },
      "source": [
        "# the number of people has research experience is slightly lower than people has experience \n",
        "# Lets check the correlation between variables and Chance of Admit\n",
        "data.corr()['Chance of Admit '].sort_values()"
      ],
      "execution_count": 20,
      "outputs": [
        {
          "output_type": "execute_result",
          "data": {
            "text/plain": [
              "Serial No.           0.008505\n",
              "Research             0.545871\n",
              "LOR                  0.645365\n",
              "SOP                  0.684137\n",
              "University Rating    0.690132\n",
              "TOEFL Score          0.792228\n",
              "GRE Score            0.810351\n",
              "CGPA                 0.882413\n",
              "Chance of Admit      1.000000\n",
              "Name: Chance of Admit , dtype: float64"
            ]
          },
          "metadata": {
            "tags": []
          },
          "execution_count": 20
        }
      ]
    },
    {
      "cell_type": "code",
      "metadata": {
        "colab": {
          "base_uri": "https://localhost:8080/",
          "height": 302
        },
        "id": "q_8Hy4vpewiX",
        "outputId": "a98e24e5-888c-4e99-95ba-bcc0fbaf6922"
      },
      "source": [
        "# CGPA seems has the most correlated with Chance of admit, lets take a look at this feature\n",
        "sns.scatterplot(x='Chance of Admit ',y='CGPA',data=data)"
      ],
      "execution_count": 21,
      "outputs": [
        {
          "output_type": "execute_result",
          "data": {
            "text/plain": [
              "<matplotlib.axes._subplots.AxesSubplot at 0x7fec7cc7e590>"
            ]
          },
          "metadata": {
            "tags": []
          },
          "execution_count": 21
        },
        {
          "output_type": "display_data",
          "data": {
            "image/png": "[encoded data removed]",
            "text/plain": [
              "<Figure size 432x288 with 1 Axes>"
            ]
          },
          "metadata": {
            "tags": []
          }
        }
      ]
    },
    {
      "cell_type": "code",
      "metadata": {
        "colab": {
          "base_uri": "https://localhost:8080/",
          "height": 305
        },
        "id": "c7XK4nrHewtz",
        "outputId": "04f2b226-83c9-48e8-de26-81d1e97e8825"
      },
      "source": [
        "# Now, moving on to GRE score \n",
        "sns.boxplot(x='GRE Score', y='Chance of Admit ', data=data)"
      ],
      "execution_count": 22,
      "outputs": [
        {
          "output_type": "execute_result",
          "data": {
            "text/plain": [
              "<matplotlib.axes._subplots.AxesSubplot at 0x7fec7cc7d8d0>"
            ]
          },
          "metadata": {
            "tags": []
          },
          "execution_count": 22
        },
        {
          "output_type": "display_data",
          "data": {
            "image/png": "[encoded data removed]",
            "text/plain": [
              "<Figure size 432x288 with 1 Axes>"
            ]
          },
          "metadata": {
            "tags": []
          }
        }
      ]
    },
    {
      "cell_type": "code",
      "metadata": {
        "colab": {
          "base_uri": "https://localhost:8080/",
          "height": 305
        },
        "id": "DnsTWx8efbK8",
        "outputId": "dcfd67be-29d8-4b49-edfd-902d4ba04051"
      },
      "source": [
        "sns.scatterplot(x='GRE Score', y='Chance of Admit ', data=data)"
      ],
      "execution_count": 23,
      "outputs": [
        {
          "output_type": "execute_result",
          "data": {
            "text/plain": [
              "<matplotlib.axes._subplots.AxesSubplot at 0x7fec85dd4190>"
            ]
          },
          "metadata": {
            "tags": []
          },
          "execution_count": 23
        },
        {
          "output_type": "display_data",
          "data": {
            "image/png": "[encoded data removed]",
            "text/plain": [
              "<Figure size 432x288 with 1 Axes>"
            ]
          },
          "metadata": {
            "tags": []
          }
        }
      ]
    },
    {
      "cell_type": "code",
      "metadata": {
        "id": "y_HUj9RWfbXu"
      },
      "source": [
        ""
      ],
      "execution_count": null,
      "outputs": []
    },
    {
      "cell_type": "code",
      "metadata": {
        "colab": {
          "base_uri": "https://localhost:8080/",
          "height": 343
        },
        "id": "U2oN2VA5fVyT",
        "outputId": "2c64607b-30c0-4641-87de-af8b1c00a080"
      },
      "source": [
        "data.head(10)"
      ],
      "execution_count": 24,
      "outputs": [
        {
          "output_type": "execute_result",
          "data": {
            "text/html": [
              "<div>\n",
              "<style scoped>\n",
              "    .dataframe tbody tr th:only-of-type {\n",
              "        vertical-align: middle;\n",
              "    }\n",
              "\n",
              "    .dataframe tbody tr th {\n",
              "        vertical-align: top;\n",
              "    }\n",
              "\n",
              "    .dataframe thead th {\n",
              "        text-align: right;\n",
              "    }\n",
              "</style>\n",
              "<table border=\"1\" class=\"dataframe\">\n",
              "  <thead>\n",
              "    <tr style=\"text-align: right;\">\n",
              "      <th></th>\n",
              "      <th>Serial No.</th>\n",
              "      <th>GRE Score</th>\n",
              "      <th>TOEFL Score</th>\n",
              "      <th>University Rating</th>\n",
              "      <th>SOP</th>\n",
              "      <th>LOR</th>\n",
              "      <th>CGPA</th>\n",
              "      <th>Research</th>\n",
              "      <th>Chance of Admit</th>\n",
              "    </tr>\n",
              "  </thead>\n",
              "  <tbody>\n",
              "    <tr>\n",
              "      <th>0</th>\n",
              "      <td>1</td>\n",
              "      <td>337</td>\n",
              "      <td>118</td>\n",
              "      <td>4</td>\n",
              "      <td>4.5</td>\n",
              "      <td>4.5</td>\n",
              "      <td>9.65</td>\n",
              "      <td>1</td>\n",
              "      <td>0.92</td>\n",
              "    </tr>\n",
              "    <tr>\n",
              "      <th>1</th>\n",
              "      <td>2</td>\n",
              "      <td>324</td>\n",
              "      <td>107</td>\n",
              "      <td>4</td>\n",
              "      <td>4.0</td>\n",
              "      <td>4.5</td>\n",
              "      <td>8.87</td>\n",
              "      <td>1</td>\n",
              "      <td>0.76</td>\n",
              "    </tr>\n",
              "    <tr>\n",
              "      <th>2</th>\n",
              "      <td>3</td>\n",
              "      <td>316</td>\n",
              "      <td>104</td>\n",
              "      <td>3</td>\n",
              "      <td>3.0</td>\n",
              "      <td>3.5</td>\n",
              "      <td>8.00</td>\n",
              "      <td>1</td>\n",
              "      <td>0.72</td>\n",
              "    </tr>\n",
              "    <tr>\n",
              "      <th>3</th>\n",
              "      <td>4</td>\n",
              "      <td>322</td>\n",
              "      <td>110</td>\n",
              "      <td>3</td>\n",
              "      <td>3.5</td>\n",
              "      <td>2.5</td>\n",
              "      <td>8.67</td>\n",
              "      <td>1</td>\n",
              "      <td>0.80</td>\n",
              "    </tr>\n",
              "    <tr>\n",
              "      <th>4</th>\n",
              "      <td>5</td>\n",
              "      <td>314</td>\n",
              "      <td>103</td>\n",
              "      <td>2</td>\n",
              "      <td>2.0</td>\n",
              "      <td>3.0</td>\n",
              "      <td>8.21</td>\n",
              "      <td>0</td>\n",
              "      <td>0.65</td>\n",
              "    </tr>\n",
              "    <tr>\n",
              "      <th>5</th>\n",
              "      <td>6</td>\n",
              "      <td>330</td>\n",
              "      <td>115</td>\n",
              "      <td>5</td>\n",
              "      <td>4.5</td>\n",
              "      <td>3.0</td>\n",
              "      <td>9.34</td>\n",
              "      <td>1</td>\n",
              "      <td>0.90</td>\n",
              "    </tr>\n",
              "    <tr>\n",
              "      <th>6</th>\n",
              "      <td>7</td>\n",
              "      <td>321</td>\n",
              "      <td>109</td>\n",
              "      <td>3</td>\n",
              "      <td>3.0</td>\n",
              "      <td>4.0</td>\n",
              "      <td>8.20</td>\n",
              "      <td>1</td>\n",
              "      <td>0.75</td>\n",
              "    </tr>\n",
              "    <tr>\n",
              "      <th>7</th>\n",
              "      <td>8</td>\n",
              "      <td>308</td>\n",
              "      <td>101</td>\n",
              "      <td>2</td>\n",
              "      <td>3.0</td>\n",
              "      <td>4.0</td>\n",
              "      <td>7.90</td>\n",
              "      <td>0</td>\n",
              "      <td>0.68</td>\n",
              "    </tr>\n",
              "    <tr>\n",
              "      <th>8</th>\n",
              "      <td>9</td>\n",
              "      <td>302</td>\n",
              "      <td>102</td>\n",
              "      <td>1</td>\n",
              "      <td>2.0</td>\n",
              "      <td>1.5</td>\n",
              "      <td>8.00</td>\n",
              "      <td>0</td>\n",
              "      <td>0.50</td>\n",
              "    </tr>\n",
              "    <tr>\n",
              "      <th>9</th>\n",
              "      <td>10</td>\n",
              "      <td>323</td>\n",
              "      <td>108</td>\n",
              "      <td>3</td>\n",
              "      <td>3.5</td>\n",
              "      <td>3.0</td>\n",
              "      <td>8.60</td>\n",
              "      <td>0</td>\n",
              "      <td>0.45</td>\n",
              "    </tr>\n",
              "  </tbody>\n",
              "</table>\n",
              "</div>"
            ],
            "text/plain": [
              "   Serial No.  GRE Score  TOEFL Score  ...  CGPA  Research  Chance of Admit \n",
              "0           1        337          118  ...  9.65         1              0.92\n",
              "1           2        324          107  ...  8.87         1              0.76\n",
              "2           3        316          104  ...  8.00         1              0.72\n",
              "3           4        322          110  ...  8.67         1              0.80\n",
              "4           5        314          103  ...  8.21         0              0.65\n",
              "5           6        330          115  ...  9.34         1              0.90\n",
              "6           7        321          109  ...  8.20         1              0.75\n",
              "7           8        308          101  ...  7.90         0              0.68\n",
              "8           9        302          102  ...  8.00         0              0.50\n",
              "9          10        323          108  ...  8.60         0              0.45\n",
              "\n",
              "[10 rows x 9 columns]"
            ]
          },
          "metadata": {
            "tags": []
          },
          "execution_count": 24
        }
      ]
    },
    {
      "cell_type": "code",
      "metadata": {
        "id": "ntgohHlkkiJ6"
      },
      "source": [
        "# Drop Serial column as it does not bing any value to our prediction model\n",
        "data.drop('Serial No.', axis=1, inplace=True)"
      ],
      "execution_count": 25,
      "outputs": []
    },
    {
      "cell_type": "code",
      "metadata": {
        "colab": {
          "base_uri": "https://localhost:8080/",
          "height": 106
        },
        "id": "-9BZ6gQdkiNf",
        "outputId": "f3090525-b907-43da-9bf2-563edcee1ab5"
      },
      "source": [
        "data.head(2)"
      ],
      "execution_count": 26,
      "outputs": [
        {
          "output_type": "execute_result",
          "data": {
            "text/html": [
              "<div>\n",
              "<style scoped>\n",
              "    .dataframe tbody tr th:only-of-type {\n",
              "        vertical-align: middle;\n",
              "    }\n",
              "\n",
              "    .dataframe tbody tr th {\n",
              "        vertical-align: top;\n",
              "    }\n",
              "\n",
              "    .dataframe thead th {\n",
              "        text-align: right;\n",
              "    }\n",
              "</style>\n",
              "<table border=\"1\" class=\"dataframe\">\n",
              "  <thead>\n",
              "    <tr style=\"text-align: right;\">\n",
              "      <th></th>\n",
              "      <th>GRE Score</th>\n",
              "      <th>TOEFL Score</th>\n",
              "      <th>University Rating</th>\n",
              "      <th>SOP</th>\n",
              "      <th>LOR</th>\n",
              "      <th>CGPA</th>\n",
              "      <th>Research</th>\n",
              "      <th>Chance of Admit</th>\n",
              "    </tr>\n",
              "  </thead>\n",
              "  <tbody>\n",
              "    <tr>\n",
              "      <th>0</th>\n",
              "      <td>337</td>\n",
              "      <td>118</td>\n",
              "      <td>4</td>\n",
              "      <td>4.5</td>\n",
              "      <td>4.5</td>\n",
              "      <td>9.65</td>\n",
              "      <td>1</td>\n",
              "      <td>0.92</td>\n",
              "    </tr>\n",
              "    <tr>\n",
              "      <th>1</th>\n",
              "      <td>324</td>\n",
              "      <td>107</td>\n",
              "      <td>4</td>\n",
              "      <td>4.0</td>\n",
              "      <td>4.5</td>\n",
              "      <td>8.87</td>\n",
              "      <td>1</td>\n",
              "      <td>0.76</td>\n",
              "    </tr>\n",
              "  </tbody>\n",
              "</table>\n",
              "</div>"
            ],
            "text/plain": [
              "   GRE Score  TOEFL Score  University Rating  ...  CGPA  Research  Chance of Admit \n",
              "0        337          118                  4  ...  9.65         1              0.92\n",
              "1        324          107                  4  ...  8.87         1              0.76\n",
              "\n",
              "[2 rows x 8 columns]"
            ]
          },
          "metadata": {
            "tags": []
          },
          "execution_count": 26
        }
      ]
    },
    {
      "cell_type": "code",
      "metadata": {
        "id": "I5OE4uXwkiRb"
      },
      "source": [
        ""
      ],
      "execution_count": null,
      "outputs": []
    },
    {
      "cell_type": "code",
      "metadata": {
        "id": "vKY2hb6vT_V8"
      },
      "source": [
        "# Split up our dataset into features and labels\n",
        "features = data.drop('Chance of Admit ', axis=1)\n",
        "labels = data['Chance of Admit ']"
      ],
      "execution_count": 27,
      "outputs": []
    },
    {
      "cell_type": "code",
      "metadata": {
        "id": "Q92MUM2EVKBX"
      },
      "source": [
        "#labels\n",
        "#help(train_test_split)"
      ],
      "execution_count": 28,
      "outputs": []
    },
    {
      "cell_type": "code",
      "metadata": {
        "id": "pVfw-znIVLvb"
      },
      "source": [
        "# Now, split our data to training features, test features, training labels, test labels\n",
        "X_train, X_test, y_train, y_test = train_test_split(features, labels, test_size=0.25, random_state=42)\n"
      ],
      "execution_count": 29,
      "outputs": []
    },
    {
      "cell_type": "code",
      "metadata": {
        "id": "713vY3-4lglL"
      },
      "source": [
        "from sklearn.preprocessing import MinMaxScaler"
      ],
      "execution_count": 30,
      "outputs": []
    },
    {
      "cell_type": "code",
      "metadata": {
        "id": "m6y4yCjGlg3C"
      },
      "source": [
        "scaler = MinMaxScaler()"
      ],
      "execution_count": 31,
      "outputs": []
    },
    {
      "cell_type": "code",
      "metadata": {
        "id": "LYbJZHK8lnfm"
      },
      "source": [
        "X_train = scaler.fit_transform(X_train)"
      ],
      "execution_count": 32,
      "outputs": []
    },
    {
      "cell_type": "code",
      "metadata": {
        "id": "QJo32sPqWJgY"
      },
      "source": [
        "X_test = scaler.transform(X_test)\n"
      ],
      "execution_count": 33,
      "outputs": []
    },
    {
      "cell_type": "code",
      "metadata": {
        "colab": {
          "base_uri": "https://localhost:8080/"
        },
        "id": "gYJrijdFb1fX",
        "outputId": "1d31439c-8404-4ca1-cb1d-49b9e71932c4"
      },
      "source": [
        "X_train.shape"
      ],
      "execution_count": 34,
      "outputs": [
        {
          "output_type": "execute_result",
          "data": {
            "text/plain": [
              "(375, 7)"
            ]
          },
          "metadata": {
            "tags": []
          },
          "execution_count": 34
        }
      ]
    },
    {
      "cell_type": "code",
      "metadata": {
        "colab": {
          "base_uri": "https://localhost:8080/"
        },
        "id": "8HcPsC55WZjE",
        "outputId": "c5d3767f-4cf3-49b2-c16b-956e4c483200"
      },
      "source": [
        "X_test.shape"
      ],
      "execution_count": 35,
      "outputs": [
        {
          "output_type": "execute_result",
          "data": {
            "text/plain": [
              "(125, 7)"
            ]
          },
          "metadata": {
            "tags": []
          },
          "execution_count": 35
        }
      ]
    },
    {
      "cell_type": "markdown",
      "metadata": {
        "id": "OAz8EAb_l_vi"
      },
      "source": [
        "**Creating a Model**"
      ]
    },
    {
      "cell_type": "code",
      "metadata": {
        "id": "JIJc_C42Xp9S"
      },
      "source": [
        "# Create model\n",
        "model = Sequential()\n",
        "# Add the shape of input\n",
        "model.add(InputLayer(input_shape=(X_train.shape[1],)))\n",
        "# Add hidden layer\n",
        "model.add(Dense(128, activation='relu'))\n",
        "model.add(Dropout(0.1))\n",
        "model.add(Dense(64, activation='relu'))\n",
        "model.add(Dropout(0.2))\n",
        "model.add(Dense(16, activation='relu'))\n",
        "model.add(Dropout(0.3))\n",
        "model.add(Dense(1))\n",
        "# Compile model\n",
        "model.compile(loss='mse', optimizer='adam')\n",
        "# Train and fit mode\n"
      ],
      "execution_count": 36,
      "outputs": []
    },
    {
      "cell_type": "code",
      "metadata": {
        "colab": {
          "base_uri": "https://localhost:8080/"
        },
        "id": "DA5K-IoJeVPB",
        "outputId": "2863be4c-e667-405c-bbbf-ce108bd4f432"
      },
      "source": [
        "model.fit(x=X_train,y=y_train.values, validation_data=(X_test, y_test.values), epochs=200, batch_size=16)"
      ],
      "execution_count": 37,
      "outputs": [
        {
          "output_type": "stream",
          "text": [
            "Epoch 1/200\n",
            "24/24 [==============================] - 1s 14ms/step - loss: 0.5160 - val_loss: 0.0206\n",
            "Epoch 2/200\n",
            "24/24 [==============================] - 0s 5ms/step - loss: 0.1213 - val_loss: 0.0235\n",
            "Epoch 3/200\n",
            "24/24 [==============================] - 0s 4ms/step - loss: 0.0866 - val_loss: 0.0178\n",
            "Epoch 4/200\n",
            "24/24 [==============================] - 0s 5ms/step - loss: 0.0617 - val_loss: 0.0046\n",
            "Epoch 5/200\n",
            "24/24 [==============================] - 0s 5ms/step - loss: 0.0671 - val_loss: 0.0118\n",
            "Epoch 6/200\n",
            "24/24 [==============================] - 0s 5ms/step - loss: 0.0539 - val_loss: 0.0061\n",
            "Epoch 7/200\n",
            "24/24 [==============================] - 0s 6ms/step - loss: 0.0521 - val_loss: 0.0052\n",
            "Epoch 8/200\n",
            "24/24 [==============================] - 0s 5ms/step - loss: 0.0528 - val_loss: 0.0068\n",
            "Epoch 9/200\n",
            "24/24 [==============================] - 0s 4ms/step - loss: 0.0495 - val_loss: 0.0109\n",
            "Epoch 10/200\n",
            "24/24 [==============================] - 0s 5ms/step - loss: 0.0449 - val_loss: 0.0057\n",
            "Epoch 11/200\n",
            "24/24 [==============================] - 0s 5ms/step - loss: 0.0437 - val_loss: 0.0089\n",
            "Epoch 12/200\n",
            "24/24 [==============================] - 0s 5ms/step - loss: 0.0401 - val_loss: 0.0096\n",
            "Epoch 13/200\n",
            "24/24 [==============================] - 0s 5ms/step - loss: 0.0371 - val_loss: 0.0043\n",
            "Epoch 14/200\n",
            "24/24 [==============================] - 0s 4ms/step - loss: 0.0345 - val_loss: 0.0110\n",
            "Epoch 15/200\n",
            "24/24 [==============================] - 0s 5ms/step - loss: 0.0372 - val_loss: 0.0038\n",
            "Epoch 16/200\n",
            "24/24 [==============================] - 0s 4ms/step - loss: 0.0341 - val_loss: 0.0042\n",
            "Epoch 17/200\n",
            "24/24 [==============================] - 0s 5ms/step - loss: 0.0296 - val_loss: 0.0038\n",
            "Epoch 18/200\n",
            "24/24 [==============================] - 0s 4ms/step - loss: 0.0309 - val_loss: 0.0048\n",
            "Epoch 19/200\n",
            "24/24 [==============================] - 0s 4ms/step - loss: 0.0275 - val_loss: 0.0038\n",
            "Epoch 20/200\n",
            "24/24 [==============================] - 0s 5ms/step - loss: 0.0288 - val_loss: 0.0079\n",
            "Epoch 21/200\n",
            "24/24 [==============================] - 0s 4ms/step - loss: 0.0315 - val_loss: 0.0045\n",
            "Epoch 22/200\n",
            "24/24 [==============================] - 0s 5ms/step - loss: 0.0277 - val_loss: 0.0044\n",
            "Epoch 23/200\n",
            "24/24 [==============================] - 0s 5ms/step - loss: 0.0292 - val_loss: 0.0043\n",
            "Epoch 24/200\n",
            "24/24 [==============================] - 0s 4ms/step - loss: 0.0288 - val_loss: 0.0057\n",
            "Epoch 25/200\n",
            "24/24 [==============================] - 0s 4ms/step - loss: 0.0266 - val_loss: 0.0055\n",
            "Epoch 26/200\n",
            "24/24 [==============================] - 0s 4ms/step - loss: 0.0240 - val_loss: 0.0045\n",
            "Epoch 27/200\n",
            "24/24 [==============================] - 0s 5ms/step - loss: 0.0245 - val_loss: 0.0062\n",
            "Epoch 28/200\n",
            "24/24 [==============================] - 0s 5ms/step - loss: 0.0237 - val_loss: 0.0069\n",
            "Epoch 29/200\n",
            "24/24 [==============================] - 0s 4ms/step - loss: 0.0214 - val_loss: 0.0065\n",
            "Epoch 30/200\n",
            "24/24 [==============================] - 0s 4ms/step - loss: 0.0212 - val_loss: 0.0052\n",
            "Epoch 31/200\n",
            "24/24 [==============================] - 0s 5ms/step - loss: 0.0246 - val_loss: 0.0087\n",
            "Epoch 32/200\n",
            "24/24 [==============================] - 0s 5ms/step - loss: 0.0226 - val_loss: 0.0049\n",
            "Epoch 33/200\n",
            "24/24 [==============================] - 0s 6ms/step - loss: 0.0176 - val_loss: 0.0044\n",
            "Epoch 34/200\n",
            "24/24 [==============================] - 0s 5ms/step - loss: 0.0158 - val_loss: 0.0040\n",
            "Epoch 35/200\n",
            "24/24 [==============================] - 0s 5ms/step - loss: 0.0192 - val_loss: 0.0070\n",
            "Epoch 36/200\n",
            "24/24 [==============================] - 0s 4ms/step - loss: 0.0212 - val_loss: 0.0050\n",
            "Epoch 37/200\n",
            "24/24 [==============================] - 0s 5ms/step - loss: 0.0242 - val_loss: 0.0057\n",
            "Epoch 38/200\n",
            "24/24 [==============================] - 0s 5ms/step - loss: 0.0177 - val_loss: 0.0044\n",
            "Epoch 39/200\n",
            "24/24 [==============================] - 0s 5ms/step - loss: 0.0204 - val_loss: 0.0067\n",
            "Epoch 40/200\n",
            "24/24 [==============================] - 0s 4ms/step - loss: 0.0162 - val_loss: 0.0039\n",
            "Epoch 41/200\n",
            "24/24 [==============================] - 0s 5ms/step - loss: 0.0158 - val_loss: 0.0054\n",
            "Epoch 42/200\n",
            "24/24 [==============================] - 0s 4ms/step - loss: 0.0178 - val_loss: 0.0058\n",
            "Epoch 43/200\n",
            "24/24 [==============================] - 0s 5ms/step - loss: 0.0180 - val_loss: 0.0053\n",
            "Epoch 44/200\n",
            "24/24 [==============================] - 0s 4ms/step - loss: 0.0148 - val_loss: 0.0046\n",
            "Epoch 45/200\n",
            "24/24 [==============================] - 0s 5ms/step - loss: 0.0141 - val_loss: 0.0049\n",
            "Epoch 46/200\n",
            "24/24 [==============================] - 0s 4ms/step - loss: 0.0166 - val_loss: 0.0057\n",
            "Epoch 47/200\n",
            "24/24 [==============================] - 0s 4ms/step - loss: 0.0150 - val_loss: 0.0044\n",
            "Epoch 48/200\n",
            "24/24 [==============================] - 0s 6ms/step - loss: 0.0143 - val_loss: 0.0047\n",
            "Epoch 49/200\n",
            "24/24 [==============================] - 0s 4ms/step - loss: 0.0134 - val_loss: 0.0054\n",
            "Epoch 50/200\n",
            "24/24 [==============================] - 0s 5ms/step - loss: 0.0132 - val_loss: 0.0054\n",
            "Epoch 51/200\n",
            "24/24 [==============================] - 0s 5ms/step - loss: 0.0135 - val_loss: 0.0043\n",
            "Epoch 52/200\n",
            "24/24 [==============================] - 0s 5ms/step - loss: 0.0128 - val_loss: 0.0050\n",
            "Epoch 53/200\n",
            "24/24 [==============================] - 0s 5ms/step - loss: 0.0123 - val_loss: 0.0055\n",
            "Epoch 54/200\n",
            "24/24 [==============================] - 0s 5ms/step - loss: 0.0114 - val_loss: 0.0045\n",
            "Epoch 55/200\n",
            "24/24 [==============================] - 0s 5ms/step - loss: 0.0128 - val_loss: 0.0045\n",
            "Epoch 56/200\n",
            "24/24 [==============================] - 0s 5ms/step - loss: 0.0118 - val_loss: 0.0057\n",
            "Epoch 57/200\n",
            "24/24 [==============================] - 0s 7ms/step - loss: 0.0104 - val_loss: 0.0042\n",
            "Epoch 58/200\n",
            "24/24 [==============================] - 0s 6ms/step - loss: 0.0093 - val_loss: 0.0043\n",
            "Epoch 59/200\n",
            "24/24 [==============================] - 0s 6ms/step - loss: 0.0087 - val_loss: 0.0056\n",
            "Epoch 60/200\n",
            "24/24 [==============================] - 0s 7ms/step - loss: 0.0106 - val_loss: 0.0048\n",
            "Epoch 61/200\n",
            "24/24 [==============================] - 0s 6ms/step - loss: 0.0104 - val_loss: 0.0040\n",
            "Epoch 62/200\n",
            "24/24 [==============================] - 0s 8ms/step - loss: 0.0095 - val_loss: 0.0053\n",
            "Epoch 63/200\n",
            "24/24 [==============================] - 0s 7ms/step - loss: 0.0106 - val_loss: 0.0042\n",
            "Epoch 64/200\n",
            "24/24 [==============================] - 0s 7ms/step - loss: 0.0089 - val_loss: 0.0042\n",
            "Epoch 65/200\n",
            "24/24 [==============================] - 0s 7ms/step - loss: 0.0090 - val_loss: 0.0042\n",
            "Epoch 66/200\n",
            "24/24 [==============================] - 0s 8ms/step - loss: 0.0086 - val_loss: 0.0043\n",
            "Epoch 67/200\n",
            "24/24 [==============================] - 0s 8ms/step - loss: 0.0086 - val_loss: 0.0044\n",
            "Epoch 68/200\n",
            "24/24 [==============================] - 0s 7ms/step - loss: 0.0080 - val_loss: 0.0046\n",
            "Epoch 69/200\n",
            "24/24 [==============================] - 0s 5ms/step - loss: 0.0076 - val_loss: 0.0057\n",
            "Epoch 70/200\n",
            "24/24 [==============================] - 0s 5ms/step - loss: 0.0092 - val_loss: 0.0041\n",
            "Epoch 71/200\n",
            "24/24 [==============================] - 0s 4ms/step - loss: 0.0071 - val_loss: 0.0053\n",
            "Epoch 72/200\n",
            "24/24 [==============================] - 0s 4ms/step - loss: 0.0103 - val_loss: 0.0045\n",
            "Epoch 73/200\n",
            "24/24 [==============================] - 0s 5ms/step - loss: 0.0080 - val_loss: 0.0048\n",
            "Epoch 74/200\n",
            "24/24 [==============================] - 0s 4ms/step - loss: 0.0069 - val_loss: 0.0049\n",
            "Epoch 75/200\n",
            "24/24 [==============================] - 0s 4ms/step - loss: 0.0072 - val_loss: 0.0042\n",
            "Epoch 76/200\n",
            "24/24 [==============================] - 0s 4ms/step - loss: 0.0075 - val_loss: 0.0041\n",
            "Epoch 77/200\n",
            "24/24 [==============================] - 0s 5ms/step - loss: 0.0080 - val_loss: 0.0046\n",
            "Epoch 78/200\n",
            "24/24 [==============================] - 0s 4ms/step - loss: 0.0079 - val_loss: 0.0043\n",
            "Epoch 79/200\n",
            "24/24 [==============================] - 0s 4ms/step - loss: 0.0072 - val_loss: 0.0047\n",
            "Epoch 80/200\n",
            "24/24 [==============================] - 0s 4ms/step - loss: 0.0077 - val_loss: 0.0041\n",
            "Epoch 81/200\n",
            "24/24 [==============================] - 0s 4ms/step - loss: 0.0082 - val_loss: 0.0042\n",
            "Epoch 82/200\n",
            "24/24 [==============================] - 0s 4ms/step - loss: 0.0066 - val_loss: 0.0044\n",
            "Epoch 83/200\n",
            "24/24 [==============================] - 0s 4ms/step - loss: 0.0088 - val_loss: 0.0041\n",
            "Epoch 84/200\n",
            "24/24 [==============================] - 0s 4ms/step - loss: 0.0073 - val_loss: 0.0041\n",
            "Epoch 85/200\n",
            "24/24 [==============================] - 0s 4ms/step - loss: 0.0057 - val_loss: 0.0042\n",
            "Epoch 86/200\n",
            "24/24 [==============================] - 0s 5ms/step - loss: 0.0064 - val_loss: 0.0041\n",
            "Epoch 87/200\n",
            "24/24 [==============================] - 0s 4ms/step - loss: 0.0070 - val_loss: 0.0049\n",
            "Epoch 88/200\n",
            "24/24 [==============================] - 0s 4ms/step - loss: 0.0065 - val_loss: 0.0041\n",
            "Epoch 89/200\n",
            "24/24 [==============================] - 0s 4ms/step - loss: 0.0066 - val_loss: 0.0041\n",
            "Epoch 90/200\n",
            "24/24 [==============================] - 0s 4ms/step - loss: 0.0078 - val_loss: 0.0043\n",
            "Epoch 91/200\n",
            "24/24 [==============================] - 0s 4ms/step - loss: 0.0059 - val_loss: 0.0050\n",
            "Epoch 92/200\n",
            "24/24 [==============================] - 0s 4ms/step - loss: 0.0058 - val_loss: 0.0044\n",
            "Epoch 93/200\n",
            "24/24 [==============================] - 0s 4ms/step - loss: 0.0049 - val_loss: 0.0041\n",
            "Epoch 94/200\n",
            "24/24 [==============================] - 0s 4ms/step - loss: 0.0051 - val_loss: 0.0043\n",
            "Epoch 95/200\n",
            "24/24 [==============================] - 0s 5ms/step - loss: 0.0063 - val_loss: 0.0045\n",
            "Epoch 96/200\n",
            "24/24 [==============================] - 0s 5ms/step - loss: 0.0054 - val_loss: 0.0042\n",
            "Epoch 97/200\n",
            "24/24 [==============================] - 0s 4ms/step - loss: 0.0059 - val_loss: 0.0042\n",
            "Epoch 98/200\n",
            "24/24 [==============================] - 0s 4ms/step - loss: 0.0054 - val_loss: 0.0041\n",
            "Epoch 99/200\n",
            "24/24 [==============================] - 0s 4ms/step - loss: 0.0056 - val_loss: 0.0041\n",
            "Epoch 100/200\n",
            "24/24 [==============================] - 0s 4ms/step - loss: 0.0058 - val_loss: 0.0041\n",
            "Epoch 101/200\n",
            "24/24 [==============================] - 0s 4ms/step - loss: 0.0043 - val_loss: 0.0042\n",
            "Epoch 102/200\n",
            "24/24 [==============================] - 0s 4ms/step - loss: 0.0047 - val_loss: 0.0042\n",
            "Epoch 103/200\n",
            "24/24 [==============================] - 0s 4ms/step - loss: 0.0058 - val_loss: 0.0044\n",
            "Epoch 104/200\n",
            "24/24 [==============================] - 0s 5ms/step - loss: 0.0050 - val_loss: 0.0041\n",
            "Epoch 105/200\n",
            "24/24 [==============================] - 0s 4ms/step - loss: 0.0046 - val_loss: 0.0041\n",
            "Epoch 106/200\n",
            "24/24 [==============================] - 0s 4ms/step - loss: 0.0051 - val_loss: 0.0042\n",
            "Epoch 107/200\n",
            "24/24 [==============================] - 0s 4ms/step - loss: 0.0048 - val_loss: 0.0041\n",
            "Epoch 108/200\n",
            "24/24 [==============================] - 0s 4ms/step - loss: 0.0047 - val_loss: 0.0045\n",
            "Epoch 109/200\n",
            "24/24 [==============================] - 0s 4ms/step - loss: 0.0043 - val_loss: 0.0044\n",
            "Epoch 110/200\n",
            "24/24 [==============================] - 0s 4ms/step - loss: 0.0052 - val_loss: 0.0041\n",
            "Epoch 111/200\n",
            "24/24 [==============================] - 0s 4ms/step - loss: 0.0045 - val_loss: 0.0042\n",
            "Epoch 112/200\n",
            "24/24 [==============================] - 0s 4ms/step - loss: 0.0046 - val_loss: 0.0042\n",
            "Epoch 113/200\n",
            "24/24 [==============================] - 0s 5ms/step - loss: 0.0049 - val_loss: 0.0045\n",
            "Epoch 114/200\n",
            "24/24 [==============================] - 0s 4ms/step - loss: 0.0051 - val_loss: 0.0045\n",
            "Epoch 115/200\n",
            "24/24 [==============================] - 0s 5ms/step - loss: 0.0047 - val_loss: 0.0042\n",
            "Epoch 116/200\n",
            "24/24 [==============================] - 0s 4ms/step - loss: 0.0047 - val_loss: 0.0041\n",
            "Epoch 117/200\n",
            "24/24 [==============================] - 0s 4ms/step - loss: 0.0050 - val_loss: 0.0045\n",
            "Epoch 118/200\n",
            "24/24 [==============================] - 0s 4ms/step - loss: 0.0054 - val_loss: 0.0041\n",
            "Epoch 119/200\n",
            "24/24 [==============================] - 0s 4ms/step - loss: 0.0045 - val_loss: 0.0041\n",
            "Epoch 120/200\n",
            "24/24 [==============================] - 0s 4ms/step - loss: 0.0046 - val_loss: 0.0040\n",
            "Epoch 121/200\n",
            "24/24 [==============================] - 0s 4ms/step - loss: 0.0042 - val_loss: 0.0042\n",
            "Epoch 122/200\n",
            "24/24 [==============================] - 0s 4ms/step - loss: 0.0046 - val_loss: 0.0041\n",
            "Epoch 123/200\n",
            "24/24 [==============================] - 0s 4ms/step - loss: 0.0043 - val_loss: 0.0040\n",
            "Epoch 124/200\n",
            "24/24 [==============================] - 0s 4ms/step - loss: 0.0044 - val_loss: 0.0039\n",
            "Epoch 125/200\n",
            "24/24 [==============================] - 0s 4ms/step - loss: 0.0046 - val_loss: 0.0041\n",
            "Epoch 126/200\n",
            "24/24 [==============================] - 0s 4ms/step - loss: 0.0042 - val_loss: 0.0041\n",
            "Epoch 127/200\n",
            "24/24 [==============================] - 0s 4ms/step - loss: 0.0042 - val_loss: 0.0041\n",
            "Epoch 128/200\n",
            "24/24 [==============================] - 0s 4ms/step - loss: 0.0044 - val_loss: 0.0042\n",
            "Epoch 129/200\n",
            "24/24 [==============================] - 0s 4ms/step - loss: 0.0043 - val_loss: 0.0039\n",
            "Epoch 130/200\n",
            "24/24 [==============================] - 0s 4ms/step - loss: 0.0054 - val_loss: 0.0043\n",
            "Epoch 131/200\n",
            "24/24 [==============================] - 0s 4ms/step - loss: 0.0056 - val_loss: 0.0042\n",
            "Epoch 132/200\n",
            "24/24 [==============================] - 0s 4ms/step - loss: 0.0044 - val_loss: 0.0042\n",
            "Epoch 133/200\n",
            "24/24 [==============================] - 0s 4ms/step - loss: 0.0048 - val_loss: 0.0042\n",
            "Epoch 134/200\n",
            "24/24 [==============================] - 0s 4ms/step - loss: 0.0045 - val_loss: 0.0043\n",
            "Epoch 135/200\n",
            "24/24 [==============================] - 0s 4ms/step - loss: 0.0036 - val_loss: 0.0044\n",
            "Epoch 136/200\n",
            "24/24 [==============================] - 0s 4ms/step - loss: 0.0050 - val_loss: 0.0042\n",
            "Epoch 137/200\n",
            "24/24 [==============================] - 0s 5ms/step - loss: 0.0051 - val_loss: 0.0045\n",
            "Epoch 138/200\n",
            "24/24 [==============================] - 0s 4ms/step - loss: 0.0044 - val_loss: 0.0041\n",
            "Epoch 139/200\n",
            "24/24 [==============================] - 0s 4ms/step - loss: 0.0042 - val_loss: 0.0043\n",
            "Epoch 140/200\n",
            "24/24 [==============================] - 0s 4ms/step - loss: 0.0041 - val_loss: 0.0042\n",
            "Epoch 141/200\n",
            "24/24 [==============================] - 0s 4ms/step - loss: 0.0041 - val_loss: 0.0042\n",
            "Epoch 142/200\n",
            "24/24 [==============================] - 0s 4ms/step - loss: 0.0040 - val_loss: 0.0043\n",
            "Epoch 143/200\n",
            "24/24 [==============================] - 0s 4ms/step - loss: 0.0038 - val_loss: 0.0042\n",
            "Epoch 144/200\n",
            "24/24 [==============================] - 0s 4ms/step - loss: 0.0043 - val_loss: 0.0044\n",
            "Epoch 145/200\n",
            "24/24 [==============================] - 0s 5ms/step - loss: 0.0044 - val_loss: 0.0041\n",
            "Epoch 146/200\n",
            "24/24 [==============================] - 0s 5ms/step - loss: 0.0040 - val_loss: 0.0041\n",
            "Epoch 147/200\n",
            "24/24 [==============================] - 0s 4ms/step - loss: 0.0038 - val_loss: 0.0040\n",
            "Epoch 148/200\n",
            "24/24 [==============================] - 0s 4ms/step - loss: 0.0037 - val_loss: 0.0041\n",
            "Epoch 149/200\n",
            "24/24 [==============================] - 0s 4ms/step - loss: 0.0038 - val_loss: 0.0042\n",
            "Epoch 150/200\n",
            "24/24 [==============================] - 0s 4ms/step - loss: 0.0037 - val_loss: 0.0042\n",
            "Epoch 151/200\n",
            "24/24 [==============================] - 0s 5ms/step - loss: 0.0048 - val_loss: 0.0044\n",
            "Epoch 152/200\n",
            "24/24 [==============================] - 0s 4ms/step - loss: 0.0042 - val_loss: 0.0043\n",
            "Epoch 153/200\n",
            "24/24 [==============================] - 0s 5ms/step - loss: 0.0042 - val_loss: 0.0040\n",
            "Epoch 154/200\n",
            "24/24 [==============================] - 0s 5ms/step - loss: 0.0043 - val_loss: 0.0041\n",
            "Epoch 155/200\n",
            "24/24 [==============================] - 0s 4ms/step - loss: 0.0046 - val_loss: 0.0041\n",
            "Epoch 156/200\n",
            "24/24 [==============================] - 0s 4ms/step - loss: 0.0044 - val_loss: 0.0041\n",
            "Epoch 157/200\n",
            "24/24 [==============================] - 0s 4ms/step - loss: 0.0041 - val_loss: 0.0041\n",
            "Epoch 158/200\n",
            "24/24 [==============================] - 0s 4ms/step - loss: 0.0038 - val_loss: 0.0041\n",
            "Epoch 159/200\n",
            "24/24 [==============================] - 0s 4ms/step - loss: 0.0040 - val_loss: 0.0041\n",
            "Epoch 160/200\n",
            "24/24 [==============================] - 0s 5ms/step - loss: 0.0047 - val_loss: 0.0041\n",
            "Epoch 161/200\n",
            "24/24 [==============================] - 0s 4ms/step - loss: 0.0043 - val_loss: 0.0044\n",
            "Epoch 162/200\n",
            "24/24 [==============================] - 0s 4ms/step - loss: 0.0043 - val_loss: 0.0040\n",
            "Epoch 163/200\n",
            "24/24 [==============================] - 0s 5ms/step - loss: 0.0042 - val_loss: 0.0041\n",
            "Epoch 164/200\n",
            "24/24 [==============================] - 0s 5ms/step - loss: 0.0038 - val_loss: 0.0041\n",
            "Epoch 165/200\n",
            "24/24 [==============================] - 0s 4ms/step - loss: 0.0042 - val_loss: 0.0042\n",
            "Epoch 166/200\n",
            "24/24 [==============================] - 0s 5ms/step - loss: 0.0041 - val_loss: 0.0044\n",
            "Epoch 167/200\n",
            "24/24 [==============================] - 0s 4ms/step - loss: 0.0041 - val_loss: 0.0043\n",
            "Epoch 168/200\n",
            "24/24 [==============================] - 0s 4ms/step - loss: 0.0040 - val_loss: 0.0042\n",
            "Epoch 169/200\n",
            "24/24 [==============================] - 0s 5ms/step - loss: 0.0043 - val_loss: 0.0044\n",
            "Epoch 170/200\n",
            "24/24 [==============================] - 0s 4ms/step - loss: 0.0042 - val_loss: 0.0044\n",
            "Epoch 171/200\n",
            "24/24 [==============================] - 0s 5ms/step - loss: 0.0038 - val_loss: 0.0046\n",
            "Epoch 172/200\n",
            "24/24 [==============================] - 0s 5ms/step - loss: 0.0043 - val_loss: 0.0042\n",
            "Epoch 173/200\n",
            "24/24 [==============================] - 0s 4ms/step - loss: 0.0039 - val_loss: 0.0042\n",
            "Epoch 174/200\n",
            "24/24 [==============================] - 0s 4ms/step - loss: 0.0034 - val_loss: 0.0041\n",
            "Epoch 175/200\n",
            "24/24 [==============================] - 0s 4ms/step - loss: 0.0038 - val_loss: 0.0047\n",
            "Epoch 176/200\n",
            "24/24 [==============================] - 0s 4ms/step - loss: 0.0044 - val_loss: 0.0045\n",
            "Epoch 177/200\n",
            "24/24 [==============================] - 0s 4ms/step - loss: 0.0041 - val_loss: 0.0042\n",
            "Epoch 178/200\n",
            "24/24 [==============================] - 0s 4ms/step - loss: 0.0041 - val_loss: 0.0047\n",
            "Epoch 179/200\n",
            "24/24 [==============================] - 0s 4ms/step - loss: 0.0043 - val_loss: 0.0046\n",
            "Epoch 180/200\n",
            "24/24 [==============================] - 0s 5ms/step - loss: 0.0040 - val_loss: 0.0044\n",
            "Epoch 181/200\n",
            "24/24 [==============================] - 0s 5ms/step - loss: 0.0036 - val_loss: 0.0042\n",
            "Epoch 182/200\n",
            "24/24 [==============================] - 0s 4ms/step - loss: 0.0043 - val_loss: 0.0042\n",
            "Epoch 183/200\n",
            "24/24 [==============================] - 0s 4ms/step - loss: 0.0039 - val_loss: 0.0045\n",
            "Epoch 184/200\n",
            "24/24 [==============================] - 0s 4ms/step - loss: 0.0038 - val_loss: 0.0044\n",
            "Epoch 185/200\n",
            "24/24 [==============================] - 0s 4ms/step - loss: 0.0035 - val_loss: 0.0041\n",
            "Epoch 186/200\n",
            "24/24 [==============================] - 0s 4ms/step - loss: 0.0039 - val_loss: 0.0042\n",
            "Epoch 187/200\n",
            "24/24 [==============================] - 0s 4ms/step - loss: 0.0032 - val_loss: 0.0043\n",
            "Epoch 188/200\n",
            "24/24 [==============================] - 0s 4ms/step - loss: 0.0033 - val_loss: 0.0046\n",
            "Epoch 189/200\n",
            "24/24 [==============================] - 0s 4ms/step - loss: 0.0041 - val_loss: 0.0048\n",
            "Epoch 190/200\n",
            "24/24 [==============================] - 0s 4ms/step - loss: 0.0034 - val_loss: 0.0048\n",
            "Epoch 191/200\n",
            "24/24 [==============================] - 0s 4ms/step - loss: 0.0032 - val_loss: 0.0046\n",
            "Epoch 192/200\n",
            "24/24 [==============================] - 0s 5ms/step - loss: 0.0037 - val_loss: 0.0044\n",
            "Epoch 193/200\n",
            "24/24 [==============================] - 0s 5ms/step - loss: 0.0034 - val_loss: 0.0046\n",
            "Epoch 194/200\n",
            "24/24 [==============================] - 0s 4ms/step - loss: 0.0041 - val_loss: 0.0042\n",
            "Epoch 195/200\n",
            "24/24 [==============================] - 0s 4ms/step - loss: 0.0035 - val_loss: 0.0043\n",
            "Epoch 196/200\n",
            "24/24 [==============================] - 0s 5ms/step - loss: 0.0037 - val_loss: 0.0044\n",
            "Epoch 197/200\n",
            "24/24 [==============================] - 0s 5ms/step - loss: 0.0036 - val_loss: 0.0042\n",
            "Epoch 198/200\n",
            "24/24 [==============================] - 0s 5ms/step - loss: 0.0032 - val_loss: 0.0041\n",
            "Epoch 199/200\n",
            "24/24 [==============================] - 0s 5ms/step - loss: 0.0036 - val_loss: 0.0040\n",
            "Epoch 200/200\n",
            "24/24 [==============================] - 0s 5ms/step - loss: 0.0043 - val_loss: 0.0048\n"
          ],
          "name": "stdout"
        },
        {
          "output_type": "execute_result",
          "data": {
            "text/plain": [
              "<tensorflow.python.keras.callbacks.History at 0x7fec868a83d0>"
            ]
          },
          "metadata": {
            "tags": []
          },
          "execution_count": 37
        }
      ]
    },
    {
      "cell_type": "code",
      "metadata": {
        "id": "3AFhogZmYmhP"
      },
      "source": [
        "losses = pd.DataFrame(model.history.history)"
      ],
      "execution_count": 38,
      "outputs": []
    },
    {
      "cell_type": "code",
      "metadata": {
        "colab": {
          "base_uri": "https://localhost:8080/",
          "height": 285
        },
        "id": "rAEB1pQAYr3a",
        "outputId": "a9675237-6df8-495d-929b-477dfc950449"
      },
      "source": [
        "losses.plot()"
      ],
      "execution_count": 39,
      "outputs": [
        {
          "output_type": "execute_result",
          "data": {
            "text/plain": [
              "<matplotlib.axes._subplots.AxesSubplot at 0x7fec75ed4810>"
            ]
          },
          "metadata": {
            "tags": []
          },
          "execution_count": 39
        },
        {
          "output_type": "display_data",
          "data": {
            "image/png": "[encoded data removed]",
            "text/plain": [
              "<Figure size 432x288 with 1 Axes>"
            ]
          },
          "metadata": {
            "tags": []
          }
        }
      ]
    },
    {
      "cell_type": "code",
      "metadata": {
        "id": "_lBlUceZYzUq"
      },
      "source": [
        "from sklearn.metrics import mean_squared_error,mean_absolute_error,explained_variance_score"
      ],
      "execution_count": 40,
      "outputs": []
    },
    {
      "cell_type": "code",
      "metadata": {
        "id": "_SQeCm5iY9pc"
      },
      "source": [
        ""
      ],
      "execution_count": 40,
      "outputs": []
    },
    {
      "cell_type": "markdown",
      "metadata": {
        "id": "4A-lEOLNnTIG"
      },
      "source": [
        "# Predicting on Brand new data "
      ]
    },
    {
      "cell_type": "code",
      "metadata": {
        "colab": {
          "base_uri": "https://localhost:8080/"
        },
        "id": "nOrz1lAuZUpb",
        "outputId": "35a473c1-abe2-4cdb-c48c-e3b19e6e236b"
      },
      "source": [
        "X_test"
      ],
      "execution_count": 41,
      "outputs": [
        {
          "output_type": "execute_result",
          "data": {
            "text/plain": [
              "array([[ 0.87234043,  0.85714286,  0.75      ,  0.75      ,  0.57142857,\n",
              "         0.87820513,  1.        ],\n",
              "       [ 0.44680851,  0.57142857,  0.75      ,  0.875     ,  0.71428571,\n",
              "         0.71794872,  1.        ],\n",
              "       [ 0.46808511,  0.46428571,  0.25      ,  0.25      ,  0.28571429,\n",
              "         0.2724359 ,  0.        ],\n",
              "       [ 0.40425532,  0.60714286,  0.5       ,  0.5       ,  0.42857143,\n",
              "         0.60576923,  0.        ],\n",
              "       [ 0.70212766,  0.71428571,  0.5       ,  0.625     ,  0.42857143,\n",
              "         0.72115385,  1.        ],\n",
              "       [ 0.76595745,  0.67857143,  0.75      ,  0.875     ,  0.71428571,\n",
              "         0.77884615,  1.        ],\n",
              "       [-0.06382979,  0.28571429,  0.        ,  0.125     ,  0.14285714,\n",
              "         0.24358974,  0.        ],\n",
              "       [ 0.17021277,  0.5       ,  0.75      ,  0.375     ,  0.42857143,\n",
              "         0.53525641,  0.        ],\n",
              "       [ 0.53191489,  0.60714286,  0.5       ,  0.625     ,  0.71428571,\n",
              "         0.77564103,  1.        ],\n",
              "       [ 0.57446809,  0.71428571,  0.75      ,  0.5       ,  0.85714286,\n",
              "         0.66025641,  1.        ],\n",
              "       [ 0.63829787,  0.57142857,  0.5       ,  0.625     ,  0.42857143,\n",
              "         0.57692308,  0.        ],\n",
              "       [ 0.4893617 ,  0.60714286,  0.5       ,  0.625     ,  0.42857143,\n",
              "         0.62820513,  0.        ],\n",
              "       [ 0.61702128,  0.39285714,  0.75      ,  0.5       ,  0.28571429,\n",
              "         0.39102564,  1.        ],\n",
              "       [ 1.        ,  0.82142857,  1.        ,  0.875     ,  0.85714286,\n",
              "         0.84935897,  1.        ],\n",
              "       [ 0.65957447,  0.64285714,  0.5       ,  0.625     ,  0.42857143,\n",
              "         0.77564103,  1.        ],\n",
              "       [ 0.06382979,  0.17857143,  0.25      ,  0.125     ,  0.14285714,\n",
              "         0.32051282,  0.        ],\n",
              "       [ 0.82978723,  0.57142857,  1.        ,  0.875     ,  0.71428571,\n",
              "         0.71153846,  1.        ],\n",
              "       [ 0.14893617,  0.17857143,  0.25      ,  0.5       ,  0.42857143,\n",
              "         0.41666667,  1.        ],\n",
              "       [ 0.10638298,  0.32142857,  0.25      ,  0.125     ,  0.14285714,\n",
              "         0.33974359,  0.        ],\n",
              "       [ 0.08510638,  0.32142857,  0.5       ,  0.25      ,  0.71428571,\n",
              "         0.27884615,  1.        ],\n",
              "       [ 0.29787234,  0.46428571,  0.25      ,  0.375     ,  0.85714286,\n",
              "         0.42307692,  1.        ],\n",
              "       [ 0.08510638,  0.25      ,  0.75      ,  0.5       ,  0.57142857,\n",
              "         0.32371795,  0.        ],\n",
              "       [ 0.38297872,  0.35714286,  0.5       ,  0.875     ,  0.71428571,\n",
              "         0.58974359,  1.        ],\n",
              "       [ 0.72340426,  0.60714286,  0.5       ,  0.625     ,  0.71428571,\n",
              "         0.63141026,  1.        ],\n",
              "       [ 0.72340426,  0.71428571,  0.5       ,  0.5       ,  0.42857143,\n",
              "         0.61538462,  1.        ],\n",
              "       [ 0.17021277,  0.35714286,  0.5       ,  0.375     ,  0.14285714,\n",
              "         0.42628205,  1.        ],\n",
              "       [ 0.78723404,  1.        ,  1.        ,  0.875     ,  1.        ,\n",
              "         0.88461538,  1.        ],\n",
              "       [ 0.74468085,  0.64285714,  0.75      ,  1.        ,  0.71428571,\n",
              "         0.75      ,  1.        ],\n",
              "       [ 0.40425532,  0.46428571,  0.25      ,  0.375     ,  0.42857143,\n",
              "         0.42307692,  0.        ],\n",
              "       [ 0.40425532,  0.53571429,  0.75      ,  0.875     ,  0.71428571,\n",
              "         0.59294872,  1.        ],\n",
              "       [ 0.14893617,  0.32142857,  0.5       ,  0.625     ,  0.28571429,\n",
              "         0.34615385,  0.        ],\n",
              "       [ 0.55319149,  0.64285714,  0.5       ,  0.5       ,  0.28571429,\n",
              "         0.63782051,  0.        ],\n",
              "       [ 0.25531915,  0.42857143,  0.25      ,  0.375     ,  0.        ,\n",
              "         0.31730769,  0.        ],\n",
              "       [ 0.63829787,  0.75      ,  0.75      ,  0.75      ,  0.85714286,\n",
              "         0.77884615,  1.        ],\n",
              "       [ 0.4893617 ,  0.42857143,  0.5       ,  0.5       ,  0.57142857,\n",
              "         0.38461538,  1.        ],\n",
              "       [ 0.55319149,  0.57142857,  0.5       ,  0.5       ,  0.57142857,\n",
              "         0.55769231,  1.        ],\n",
              "       [ 0.14893617,  0.21428571,  0.        ,  0.25      ,  0.28571429,\n",
              "         0.39102564,  0.        ],\n",
              "       [ 0.82978723,  0.92857143,  1.        ,  1.        ,  1.        ,\n",
              "         0.91025641,  1.        ],\n",
              "       [ 0.17021277,  0.42857143,  0.5       ,  0.625     ,  0.71428571,\n",
              "         0.42307692,  1.        ],\n",
              "       [ 0.46808511,  0.53571429,  0.25      ,  0.75      ,  0.42857143,\n",
              "         0.54487179,  1.        ],\n",
              "       [ 1.        ,  0.75      ,  0.75      ,  1.        ,  1.        ,\n",
              "         0.94230769,  1.        ],\n",
              "       [ 0.17021277,  0.17857143,  0.25      ,  0.5       ,  0.42857143,\n",
              "         0.34615385,  1.        ],\n",
              "       [ 0.38297872,  0.32142857,  0.25      ,  0.375     ,  0.57142857,\n",
              "         0.49358974,  1.        ],\n",
              "       [ 0.72340426,  0.75      ,  0.75      ,  0.875     ,  0.85714286,\n",
              "         0.74038462,  1.        ],\n",
              "       [ 1.        ,  0.78571429,  1.        ,  0.75      ,  0.71428571,\n",
              "         0.8974359 ,  1.        ],\n",
              "       [ 0.17021277,  0.25      ,  0.25      ,  0.5       ,  0.14285714,\n",
              "         0.45512821,  0.        ],\n",
              "       [ 0.93617021,  0.92857143,  0.75      ,  0.875     ,  0.85714286,\n",
              "         0.91346154,  1.        ],\n",
              "       [ 0.72340426,  0.67857143,  0.75      ,  0.75      ,  0.85714286,\n",
              "         0.70512821,  1.        ],\n",
              "       [ 0.72340426,  0.5       ,  0.75      ,  0.75      ,  0.85714286,\n",
              "         0.625     ,  1.        ],\n",
              "       [ 0.74468085,  0.85714286,  1.        ,  1.        ,  1.        ,\n",
              "         0.86538462,  1.        ],\n",
              "       [ 0.59574468,  0.67857143,  1.        ,  1.        ,  1.        ,\n",
              "         0.84935897,  1.        ],\n",
              "       [ 0.12765957,  0.28571429,  0.25      ,  0.5       ,  0.57142857,\n",
              "         0.34615385,  0.        ],\n",
              "       [ 0.21276596,  0.46428571,  1.        ,  1.        ,  0.85714286,\n",
              "         0.59294872,  0.        ],\n",
              "       [ 0.17021277,  0.14285714,  0.        ,  0.5       ,  0.71428571,\n",
              "         0.24358974,  0.        ],\n",
              "       [ 0.91489362,  0.92857143,  1.        ,  0.875     ,  1.        ,\n",
              "         0.875     ,  1.        ],\n",
              "       [ 0.57446809,  0.39285714,  0.5       ,  0.5       ,  0.42857143,\n",
              "         0.28846154,  0.        ],\n",
              "       [ 0.9787234 ,  0.85714286,  0.75      ,  0.75      ,  0.57142857,\n",
              "         0.96153846,  1.        ],\n",
              "       [ 0.53191489,  0.64285714,  0.5       ,  0.75      ,  0.42857143,\n",
              "         0.64102564,  0.        ],\n",
              "       [ 0.10638298,  0.46428571,  0.5       ,  0.625     ,  0.71428571,\n",
              "         0.55769231,  0.        ],\n",
              "       [ 0.06382979,  0.10714286,  0.25      ,  0.5       ,  0.14285714,\n",
              "         0.23717949,  1.        ],\n",
              "       [ 0.17021277,  0.25      ,  0.5       ,  0.375     ,  0.14285714,\n",
              "         0.52884615,  1.        ],\n",
              "       [ 0.31914894,  0.39285714,  0.25      ,  0.375     ,  0.71428571,\n",
              "         0.5       ,  1.        ],\n",
              "       [ 0.25531915,  0.35714286,  0.25      ,  0.25      ,  0.28571429,\n",
              "         0.44230769,  0.        ],\n",
              "       [ 0.23404255,  0.39285714,  1.        ,  1.        ,  0.42857143,\n",
              "         0.35897436,  0.        ],\n",
              "       [ 0.0212766 ,  0.03571429,  0.        ,  0.125     ,  0.14285714,\n",
              "         0.17948718,  0.        ],\n",
              "       [ 0.29787234,  0.57142857,  0.25      ,  0.75      ,  0.57142857,\n",
              "         0.28846154,  0.        ],\n",
              "       [ 0.65957447,  0.75      ,  0.75      ,  0.875     ,  0.85714286,\n",
              "         0.78525641,  1.        ],\n",
              "       [ 0.76595745,  0.78571429,  1.        ,  0.75      ,  1.        ,\n",
              "         0.80128205,  1.        ],\n",
              "       [ 0.36170213,  0.42857143,  0.5       ,  0.25      ,  0.57142857,\n",
              "         0.50320513,  0.        ],\n",
              "       [ 0.53191489,  0.5       ,  0.5       ,  0.25      ,  0.42857143,\n",
              "         0.59294872,  0.        ],\n",
              "       [ 0.21276596,  0.28571429,  0.25      ,  0.5       ,  0.57142857,\n",
              "         0.40384615,  1.        ],\n",
              "       [ 0.70212766,  0.64285714,  0.5       ,  0.625     ,  0.57142857,\n",
              "         0.62820513,  1.        ],\n",
              "       [ 0.57446809,  0.32142857,  0.25      ,  0.375     ,  0.42857143,\n",
              "         0.58333333,  0.        ],\n",
              "       [ 0.29787234,  0.46428571,  0.25      ,  0.375     ,  0.42857143,\n",
              "         0.2724359 ,  0.        ],\n",
              "       [ 0.14893617,  0.25      ,  0.        ,  0.        ,  0.28571429,\n",
              "         0.38782051,  0.        ],\n",
              "       [ 0.42553191,  0.5       ,  0.25      ,  0.375     ,  0.14285714,\n",
              "         0.5224359 ,  0.        ],\n",
              "       [ 0.72340426,  0.75      ,  0.75      ,  0.875     ,  1.        ,\n",
              "         0.75      ,  0.        ],\n",
              "       [ 0.74468085,  0.82142857,  0.75      ,  0.875     ,  0.71428571,\n",
              "         0.75641026,  1.        ],\n",
              "       [ 0.25531915,  0.35714286,  0.25      ,  0.125     ,  0.28571429,\n",
              "         0.26923077,  0.        ],\n",
              "       [ 0.25531915,  0.14285714,  0.75      ,  0.5       ,  0.85714286,\n",
              "         0.46794872,  0.        ],\n",
              "       [ 0.70212766,  0.57142857,  0.5       ,  0.5       ,  0.57142857,\n",
              "         0.66987179,  0.        ],\n",
              "       [ 0.57446809,  0.64285714,  1.        ,  1.        ,  0.85714286,\n",
              "         0.77564103,  1.        ],\n",
              "       [ 0.34042553,  0.46428571,  0.75      ,  0.625     ,  0.14285714,\n",
              "         0.44230769,  0.        ],\n",
              "       [ 0.61702128,  0.64285714,  0.75      ,  0.75      ,  1.        ,\n",
              "         0.74679487,  1.        ],\n",
              "       [ 0.63829787,  0.42857143,  0.5       ,  0.75      ,  0.71428571,\n",
              "         0.52564103,  1.        ],\n",
              "       [ 0.53191489,  0.5       ,  0.25      ,  0.75      ,  0.71428571,\n",
              "         0.35897436,  1.        ],\n",
              "       [ 0.14893617,  0.42857143,  0.5       ,  0.625     ,  0.42857143,\n",
              "         0.43589744,  0.        ],\n",
              "       [ 0.59574468,  0.64285714,  0.75      ,  0.625     ,  0.71428571,\n",
              "         0.49679487,  1.        ],\n",
              "       [ 0.38297872,  0.53571429,  0.75      ,  0.875     ,  0.85714286,\n",
              "         0.70512821,  1.        ],\n",
              "       [ 0.31914894,  0.39285714,  0.25      ,  0.5       ,  0.57142857,\n",
              "         0.54166667,  0.        ],\n",
              "       [ 0.55319149,  0.46428571,  0.5       ,  0.5       ,  0.57142857,\n",
              "         0.59935897,  1.        ],\n",
              "       [ 0.72340426,  0.85714286,  0.75      ,  0.75      ,  0.85714286,\n",
              "         0.85897436,  1.        ],\n",
              "       [ 0.95744681,  0.82142857,  1.        ,  0.875     ,  1.        ,\n",
              "         0.77884615,  1.        ],\n",
              "       [ 0.46808511,  0.42857143,  0.5       ,  0.5       ,  0.28571429,\n",
              "         0.49038462,  0.        ],\n",
              "       [ 0.57446809,  0.71428571,  0.25      ,  0.625     ,  0.57142857,\n",
              "         0.63461538,  1.        ],\n",
              "       [ 0.12765957,  0.07142857,  0.        ,  0.        , -0.14285714,\n",
              "         0.17307692,  0.        ],\n",
              "       [ 0.46808511,  0.5       ,  0.5       ,  0.875     ,  0.57142857,\n",
              "         0.51923077,  0.        ],\n",
              "       [ 0.76595745,  0.78571429,  0.25      ,  0.25      ,  0.71428571,\n",
              "         0.56410256,  1.        ],\n",
              "       [ 0.53191489,  0.64285714,  0.        ,  0.375     ,  0.57142857,\n",
              "         0.55769231,  1.        ],\n",
              "       [ 0.44680851,  0.46428571,  0.5       ,  0.625     ,  0.28571429,\n",
              "         0.48076923,  0.        ],\n",
              "       [ 0.59574468,  0.67857143,  0.5       ,  0.625     ,  0.71428571,\n",
              "         0.65064103,  1.        ],\n",
              "       [ 0.4893617 ,  0.67857143,  0.75      ,  0.75      ,  1.        ,\n",
              "         0.55769231,  0.        ],\n",
              "       [ 0.21276596,  0.35714286,  0.5       ,  0.625     ,  0.42857143,\n",
              "         0.54487179,  0.        ],\n",
              "       [ 0.44680851,  0.53571429,  0.25      ,  0.375     ,  0.71428571,\n",
              "         0.47115385,  0.        ],\n",
              "       [ 0.31914894,  0.5       ,  0.5       ,  0.625     ,  0.28571429,\n",
              "         0.45192308,  1.        ],\n",
              "       [ 0.4893617 ,  0.35714286,  0.5       ,  0.25      ,  0.42857143,\n",
              "         0.19230769,  0.        ],\n",
              "       [ 0.55319149,  0.57142857,  0.25      ,  0.375     ,  0.42857143,\n",
              "         0.62820513,  0.        ],\n",
              "       [ 0.65957447,  0.67857143,  0.75      ,  0.5       ,  0.42857143,\n",
              "         0.70833333,  1.        ],\n",
              "       [ 0.38297872,  0.46428571,  0.25      ,  0.5       ,  0.14285714,\n",
              "         0.42307692,  1.        ],\n",
              "       [ 0.34042553,  0.46428571,  1.        ,  0.625     ,  0.57142857,\n",
              "         0.56410256,  0.        ],\n",
              "       [ 0.4893617 ,  0.28571429,  0.25      ,  0.125     ,  0.42857143,\n",
              "         0.43589744,  1.        ],\n",
              "       [ 0.87234043,  0.96428571,  1.        ,  0.875     ,  1.        ,\n",
              "         0.87820513,  1.        ],\n",
              "       [ 0.68085106,  0.67857143,  0.75      ,  0.75      ,  0.85714286,\n",
              "         0.74038462,  1.        ],\n",
              "       [ 1.        ,  1.        ,  1.        ,  0.875     ,  0.85714286,\n",
              "         0.8974359 ,  1.        ],\n",
              "       [ 0.10638298,  0.17857143,  0.25      ,  0.25      ,  0.42857143,\n",
              "         0.13141026,  0.        ],\n",
              "       [ 0.5106383 ,  0.64285714,  0.5       ,  0.75      ,  0.85714286,\n",
              "         0.74038462,  1.        ],\n",
              "       [ 0.38297872,  0.42857143,  0.25      ,  0.375     ,  0.57142857,\n",
              "         0.53846154,  0.        ],\n",
              "       [ 0.76595745,  0.78571429,  1.        ,  0.875     ,  1.        ,\n",
              "         0.76602564,  1.        ],\n",
              "       [-0.06382979,  0.42857143,  0.75      ,  0.25      ,  0.28571429,\n",
              "         0.21153846,  0.        ],\n",
              "       [ 0.42553191,  0.53571429,  0.25      ,  0.375     ,  0.14285714,\n",
              "         0.54487179,  1.        ],\n",
              "       [ 0.42553191,  0.39285714,  0.5       ,  0.75      ,  0.71428571,\n",
              "         0.625     ,  0.        ],\n",
              "       [ 0.76595745,  0.96428571,  0.75      ,  0.875     ,  0.85714286,\n",
              "         0.75641026,  1.        ],\n",
              "       [ 0.5106383 ,  0.5       ,  0.5       ,  0.75      ,  0.57142857,\n",
              "         0.54487179,  1.        ],\n",
              "       [ 0.65957447,  0.46428571,  0.5       ,  0.5       ,  0.71428571,\n",
              "         0.625     ,  0.        ],\n",
              "       [ 0.55319149,  0.5       ,  0.5       ,  0.625     ,  0.28571429,\n",
              "         0.49038462,  1.        ]])"
            ]
          },
          "metadata": {
            "tags": []
          },
          "execution_count": 41
        }
      ]
    },
    {
      "cell_type": "code",
      "metadata": {
        "id": "ZwJhsBwhZ77K"
      },
      "source": [
        "preds = model.predict(X_test)"
      ],
      "execution_count": 42,
      "outputs": []
    },
    {
      "cell_type": "code",
      "metadata": {
        "colab": {
          "base_uri": "https://localhost:8080/"
        },
        "id": "cA_uiHAbacqm",
        "outputId": "bbd17820-1286-44ba-d453-0c23b0d14c5e"
      },
      "source": [
        "mean_absolute_error(y_test, preds)"
      ],
      "execution_count": 43,
      "outputs": [
        {
          "output_type": "execute_result",
          "data": {
            "text/plain": [
              "0.054224493427276615"
            ]
          },
          "metadata": {
            "tags": []
          },
          "execution_count": 43
        }
      ]
    },
    {
      "cell_type": "code",
      "metadata": {
        "colab": {
          "base_uri": "https://localhost:8080/"
        },
        "id": "UgRAHoXHaydi",
        "outputId": "8c1b42c0-36b3-47cb-8d1a-c7d3be85c9c2"
      },
      "source": [
        "explained_variance_score(y_test, preds)"
      ],
      "execution_count": 44,
      "outputs": [
        {
          "output_type": "execute_result",
          "data": {
            "text/plain": [
              "0.7586742051187428"
            ]
          },
          "metadata": {
            "tags": []
          },
          "execution_count": 44
        }
      ]
    },
    {
      "cell_type": "code",
      "metadata": {
        "colab": {
          "base_uri": "https://localhost:8080/"
        },
        "id": "fu9J8N0Ma3wW",
        "outputId": "61f68563-827a-4f90-f87d-7276c414a1e3"
      },
      "source": [
        "data['Chance of Admit '].mean()"
      ],
      "execution_count": 45,
      "outputs": [
        {
          "output_type": "execute_result",
          "data": {
            "text/plain": [
              "0.7217399999999996"
            ]
          },
          "metadata": {
            "tags": []
          },
          "execution_count": 45
        }
      ]
    },
    {
      "cell_type": "code",
      "metadata": {
        "colab": {
          "base_uri": "https://localhost:8080/"
        },
        "id": "StUnNhyWnxYw",
        "outputId": "ff5f4ff3-286f-4800-afd2-3012726999fd"
      },
      "source": [
        "data['Chance of Admit '].median()"
      ],
      "execution_count": 46,
      "outputs": [
        {
          "output_type": "execute_result",
          "data": {
            "text/plain": [
              "0.72"
            ]
          },
          "metadata": {
            "tags": []
          },
          "execution_count": 46
        }
      ]
    },
    {
      "cell_type": "code",
      "metadata": {
        "colab": {
          "base_uri": "https://localhost:8080/",
          "height": 285
        },
        "id": "gOow4lKmn0sx",
        "outputId": "a5ac2b5c-7cd5-4f9b-8112-4ac24f7ec050"
      },
      "source": [
        "# Our Prediction\n",
        "plt.scatter(y_test, preds)\n",
        "\n",
        "plt.plot(y_test, y_test, 'r')"
      ],
      "execution_count": 47,
      "outputs": [
        {
          "output_type": "execute_result",
          "data": {
            "text/plain": [
              "[<matplotlib.lines.Line2D at 0x7fec74de9f50>]"
            ]
          },
          "metadata": {
            "tags": []
          },
          "execution_count": 47
        },
        {
          "output_type": "display_data",
          "data": {
            "image/png": "[encoded data removed]",
            "text/plain": [
              "<Figure size 432x288 with 1 Axes>"
            ]
          },
          "metadata": {
            "tags": []
          }
        }
      ]
    },
    {
      "cell_type": "code",
      "metadata": {
        "id": "ZzJV0cxhoBKd"
      },
      "source": [
        "errors = y_test.values.reshape(125, 1) - preds"
      ],
      "execution_count": 48,
      "outputs": []
    },
    {
      "cell_type": "code",
      "metadata": {
        "colab": {
          "base_uri": "https://localhost:8080/",
          "height": 338
        },
        "id": "eYyJqq6eoTl-",
        "outputId": "89c804f9-db8c-4c78-e8fe-72b607accb6a"
      },
      "source": [
        "sns.distplot(errors)"
      ],
      "execution_count": 49,
      "outputs": [
        {
          "output_type": "stream",
          "text": [
            "/usr/local/lib/python3.7/dist-packages/seaborn/distributions.py:2557: FutureWarning: `distplot` is a deprecated function and will be removed in a future version. Please adapt your code to use either `displot` (a figure-level function with similar flexibility) or `histplot` (an axes-level function for histograms).\n",
            "  warnings.warn(msg, FutureWarning)\n"
          ],
          "name": "stderr"
        },
        {
          "output_type": "execute_result",
          "data": {
            "text/plain": [
              "<matplotlib.axes._subplots.AxesSubplot at 0x7fec74dab410>"
            ]
          },
          "metadata": {
            "tags": []
          },
          "execution_count": 49
        },
        {
          "output_type": "display_data",
          "data": {
            "image/png": "[encoded data removed]",
            "text/plain": [
              "<Figure size 432x288 with 1 Axes>"
            ]
          },
          "metadata": {
            "tags": []
          }
        }
      ]
    },
    {
      "cell_type": "code",
      "metadata": {
        "id": "L1VbdqDooWRh"
      },
      "source": [
        "rmse = mean_squared_error(y_test, preds, squared=False)"
      ],
      "execution_count": 51,
      "outputs": []
    },
    {
      "cell_type": "code",
      "metadata": {
        "colab": {
          "base_uri": "https://localhost:8080/"
        },
        "id": "acdTn24cHI8W",
        "outputId": "d5ae47e5-617a-4f72-b457-65a277ef0182"
      },
      "source": [
        "rmse"
      ],
      "execution_count": 52,
      "outputs": [
        {
          "output_type": "execute_result",
          "data": {
            "text/plain": [
              "0.06921589212871604"
            ]
          },
          "metadata": {
            "tags": []
          },
          "execution_count": 52
        }
      ]
    },
    {
      "cell_type": "markdown",
      "metadata": {
        "id": "LHkIilxGojcR"
      },
      "source": [
        "# Predicting a single value\n"
      ]
    },
    {
      "cell_type": "code",
      "metadata": {
        "id": "QFU-ws3Qo-uf"
      },
      "source": [
        "single_value = data.drop('Chance of Admit ',axis=1).iloc[0]"
      ],
      "execution_count": 57,
      "outputs": []
    },
    {
      "cell_type": "code",
      "metadata": {
        "id": "EJ04kenidz2u"
      },
      "source": [
        "single_value = scaler.transform(single_value.values.reshape(-1, 7))"
      ],
      "execution_count": 59,
      "outputs": []
    },
    {
      "cell_type": "code",
      "metadata": {
        "colab": {
          "base_uri": "https://localhost:8080/"
        },
        "id": "RkY_Fkt4huoX",
        "outputId": "a1a0fc67-679f-4e88-a669-35dfde7cc107"
      },
      "source": [
        "single_value"
      ],
      "execution_count": 60,
      "outputs": [
        {
          "output_type": "execute_result",
          "data": {
            "text/plain": [
              "array([[0.93617021, 0.92857143, 0.75      , 0.875     , 0.85714286,\n",
              "        0.91346154, 1.        ]])"
            ]
          },
          "metadata": {
            "tags": []
          },
          "execution_count": 60
        }
      ]
    },
    {
      "cell_type": "code",
      "metadata": {
        "colab": {
          "base_uri": "https://localhost:8080/"
        },
        "id": "XKSFR2cGhyUh",
        "outputId": "1abf74c4-54db-4baa-a6d4-2095e3416f84"
      },
      "source": [
        "model.predict(single_value)"
      ],
      "execution_count": 61,
      "outputs": [
        {
          "output_type": "execute_result",
          "data": {
            "text/plain": [
              "array([[0.8818678]], dtype=float32)"
            ]
          },
          "metadata": {
            "tags": []
          },
          "execution_count": 61
        }
      ]
    },
    {
      "cell_type": "code",
      "metadata": {
        "colab": {
          "base_uri": "https://localhost:8080/"
        },
        "id": "kvgwjIkYh6ku",
        "outputId": "28f3296b-2b8d-498c-b9ac-94780c03b378"
      },
      "source": [
        "data.iloc[0]"
      ],
      "execution_count": 62,
      "outputs": [
        {
          "output_type": "execute_result",
          "data": {
            "text/plain": [
              "GRE Score            337.00\n",
              "TOEFL Score          118.00\n",
              "University Rating      4.00\n",
              "SOP                    4.50\n",
              "LOR                    4.50\n",
              "CGPA                   9.65\n",
              "Research               1.00\n",
              "Chance of Admit        0.92\n",
              "Name: 0, dtype: float64"
            ]
          },
          "metadata": {
            "tags": []
          },
          "execution_count": 62
        }
      ]
    },
    {
      "cell_type": "code",
      "metadata": {
        "id": "qysYLEtTh9Cn"
      },
      "source": [
        "second_value = data.drop('Chance of Admit ',axis=1).iloc[1]"
      ],
      "execution_count": 63,
      "outputs": []
    },
    {
      "cell_type": "code",
      "metadata": {
        "id": "f-5P-vR_kIk7"
      },
      "source": [
        "second_value = scaler.transform(second_value.values.reshape(-1, 7))"
      ],
      "execution_count": 64,
      "outputs": []
    },
    {
      "cell_type": "code",
      "metadata": {
        "colab": {
          "base_uri": "https://localhost:8080/"
        },
        "id": "sOL0qRPfkPgS",
        "outputId": "e6b8e27a-08a1-41d9-85b8-1a606e5a157f"
      },
      "source": [
        "second_value"
      ],
      "execution_count": 65,
      "outputs": [
        {
          "output_type": "execute_result",
          "data": {
            "text/plain": [
              "array([[0.65957447, 0.53571429, 0.75      , 0.75      , 0.85714286,\n",
              "        0.66346154, 1.        ]])"
            ]
          },
          "metadata": {
            "tags": []
          },
          "execution_count": 65
        }
      ]
    },
    {
      "cell_type": "code",
      "metadata": {
        "colab": {
          "base_uri": "https://localhost:8080/"
        },
        "id": "nrSkqnZ3kQZE",
        "outputId": "d9b5f473-8ff0-4cfe-ee21-b9b7fe9713d5"
      },
      "source": [
        "model.predict(second_value)"
      ],
      "execution_count": 66,
      "outputs": [
        {
          "output_type": "execute_result",
          "data": {
            "text/plain": [
              "array([[0.7762339]], dtype=float32)"
            ]
          },
          "metadata": {
            "tags": []
          },
          "execution_count": 66
        }
      ]
    },
    {
      "cell_type": "code",
      "metadata": {
        "colab": {
          "base_uri": "https://localhost:8080/"
        },
        "id": "Z5KioHKdkTvh",
        "outputId": "c0354442-0bf6-4494-c589-8477019b8126"
      },
      "source": [
        "data.iloc[1]"
      ],
      "execution_count": 67,
      "outputs": [
        {
          "output_type": "execute_result",
          "data": {
            "text/plain": [
              "GRE Score            324.00\n",
              "TOEFL Score          107.00\n",
              "University Rating      4.00\n",
              "SOP                    4.00\n",
              "LOR                    4.50\n",
              "CGPA                   8.87\n",
              "Research               1.00\n",
              "Chance of Admit        0.76\n",
              "Name: 1, dtype: float64"
            ]
          },
          "metadata": {
            "tags": []
          },
          "execution_count": 67
        }
      ]
    },
    {
      "cell_type": "code",
      "metadata": {
        "id": "A_DttwA5kWVc"
      },
      "source": [
        "from tensorflow.keras.models import load_model"
      ],
      "execution_count": 68,
      "outputs": []
    },
    {
      "cell_type": "code",
      "metadata": {
        "id": "r13tEThMlJeW"
      },
      "source": [
        "model.save('model_regression.h5')"
      ],
      "execution_count": 69,
      "outputs": []
    },
    {
      "cell_type": "code",
      "metadata": {
        "id": "noRVItr6lQaO"
      },
      "source": [
        ""
      ],
      "execution_count": null,
      "outputs": []
    }
  ]
}