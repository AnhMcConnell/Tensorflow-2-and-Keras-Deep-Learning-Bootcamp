{
  "nbformat": 4,
  "nbformat_minor": 0,
  "metadata": {
    "colab": {
      "name": "Implementing_Neural_Network.ipynb",
      "provenance": [],
      "collapsed_sections": [],
      "authorship_tag": "ABX9TyO2na5HEpp+MqVaV6ymFZrG",
      "include_colab_link": true
    },
    "kernelspec": {
      "name": "python3",
      "display_name": "Python 3"
    }
  },
  "cells": [
    {
      "cell_type": "markdown",
      "metadata": {
        "id": "view-in-github",
        "colab_type": "text"
      },
      "source": [
        "<a href=\"https://colab.research.google.com/github/AnhMcConnell/Tensorflow-2-and-Keras-Deep-Learning-Bootcamp/blob/main/Implementing_Neural_Network.ipynb\" target=\"_parent\"><img src=\"https://colab.research.google.com/assets/colab-badge.svg\" alt=\"Open In Colab\"/></a>"
      ]
    },
    {
      "cell_type": "code",
      "metadata": {
        "id": "0XX3xWEmESkA"
      },
      "source": [
        "import pandas as pd\r\n",
        "import numpy as np\r\n",
        "import matplotlib.pyplot as plt\r\n",
        "from sklearn.model_selection import train_test_split\r\n",
        "from sklearn.compose import ColumnTransformer\r\n",
        "from sklearn.preprocessing import StandardScaler\r\n",
        "import tensorflow as tf\r\n",
        "from tensorflow import keras\r\n",
        "from tensorflow.keras.models import Sequential\r\n",
        "from tensorflow.keras.layers import InputLayer, Dense, Dropout\r\n",
        "# Load dataset\r\n",
        "dataset = pd.read_csv('life_expectancy.csv')\r\n",
        "\r\n",
        "# Print first 5 rows of the data\r\n",
        "print(dataset.head())\r\n",
        "print(dataset.describe())\r\n",
        "\r\n",
        "# Drop the country column\r\n",
        "dataset.drop('Country', axis=1, inplace=True)\r\n",
        "print(dataset.head(2))\r\n",
        "\r\n",
        "# Create labels and features\r\n",
        "labels = dataset.iloc[:, -1]\r\n",
        "features = dataset.iloc[:, :-1]\r\n",
        "\r\n",
        "# Onehot encoding categorical features\r\n",
        "features = pd.get_dummies(features)\r\n",
        "# Split the data\r\n",
        "features_train, features_test, labels_train, labels_test = train_test_split(features, labels, test_size=0.2, random_state=0)\r\n",
        "\r\n",
        "# Standardlize numerical features\r\n",
        "numerical_features = features.select_dtypes(include=['float64', 'int64'])\r\n",
        "numerical_columns = numerical_features.columns\r\n",
        "\r\n",
        "ct = ColumnTransformer([('scale', StandardScaler(), numerical_columns)], remainder='passthrough')\r\n",
        "\r\n",
        "# fit ct to data\r\n",
        "features_train_scaled = ct.fit_transform(features_train)\r\n",
        "features_test_scaled = ct.transform(features_test)\r\n",
        "\r\n",
        "# Now, we create our model\r\n",
        "model = Sequential()\r\n",
        "# Create input layer \r\n",
        "input = InputLayer(input_shape=(features_train.shape[1],))\r\n",
        "# Add the input layer to our model\r\n",
        "model.add(input)\r\n",
        "# Add one hidden layer\r\n",
        "model.add(Dense(64, activation='relu'))\r\n",
        "# Add output layer\r\n",
        "model.add(Dense(1))\r\n",
        "# Print summary\r\n",
        "print(model.summary())\r\n",
        "from tensorflow.keras.optimizers import Adam\r\n",
        "opt = Adam(learning_rate=0.01)\r\n",
        "# Compile model\r\n",
        "model.compile(loss='mse', metrics=['mae'], optimizer=opt)\r\n",
        "\r\n",
        "# Fit and evaluate the model\r\n",
        "model.fit(features_train, labels_train, epochs=40, batch_size=1, verbose=1)\r\n",
        "\r\n",
        "res_mse, res_mae = model.evaluate(features_test, labels_test, verbose=0)\r\n",
        "\r\n",
        "print(res_mse, res_mae)\r\n",
        "\r\n",
        "\r\n",
        "\r\n",
        "\r\n",
        "\r\n"
      ],
      "execution_count": null,
      "outputs": []
    }
  ]
}